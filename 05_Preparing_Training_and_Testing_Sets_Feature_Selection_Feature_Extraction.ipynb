{
 "cells": [
  {
   "cell_type": "markdown",
   "metadata": {},
   "source": [
    "# <font color='blue'>Video Game Sales Prediction 1980 - 2020</font>"
   ]
  },
  {
   "cell_type": "markdown",
   "metadata": {},
   "source": [
    "## Table of Contents\n",
    "6. [Preparing Training and Testing Sets](#f_ID)\n",
    "\n",
    "    6.1 [Splitting into Train and Test Sets](#f1_ID)\n",
    "    \n",
    "    6.2 [Feature Scaling](#f2_ID)\n",
    "    \n",
    "7. [Feature Selection](#g_ID)\n",
    "\n",
    "    7.1 [Recursive feature elimination with Cross-validation](#g1_ID)\n",
    "\n",
    "8. [Feature Extraction](#h_ID)\n",
    "\n",
    "    8.1 [Prinicpal Component Analysis (PCA)](#h1_ID)"
   ]
  },
  {
   "cell_type": "markdown",
   "metadata": {},
   "source": [
    "## <a id=\"f_ID\">6. Preparing Training and Testing Sets</a>"
   ]
  },
  {
   "cell_type": "code",
   "execution_count": null,
   "metadata": {},
   "outputs": [],
   "source": [
    "# Replace missing values in Year with 0\n",
    "vgsales['Year'][vgsales['Year'].isnull()] = 0"
   ]
  },
  {
   "cell_type": "code",
   "execution_count": 81,
   "metadata": {},
   "outputs": [
    {
     "data": {
      "text/html": [
       "<div>\n",
       "<style scoped>\n",
       "    .dataframe tbody tr th:only-of-type {\n",
       "        vertical-align: middle;\n",
       "    }\n",
       "\n",
       "    .dataframe tbody tr th {\n",
       "        vertical-align: top;\n",
       "    }\n",
       "\n",
       "    .dataframe thead th {\n",
       "        text-align: right;\n",
       "    }\n",
       "</style>\n",
       "<table border=\"1\" class=\"dataframe\">\n",
       "  <thead>\n",
       "    <tr style=\"text-align: right;\">\n",
       "      <th></th>\n",
       "      <th>Rank</th>\n",
       "      <th>Name</th>\n",
       "      <th>Platform</th>\n",
       "      <th>Year</th>\n",
       "      <th>Genre</th>\n",
       "      <th>Publisher</th>\n",
       "      <th>NA_Sales</th>\n",
       "      <th>EU_Sales</th>\n",
       "      <th>JP_Sales</th>\n",
       "      <th>Other_Sales</th>\n",
       "      <th>Global_Sales</th>\n",
       "    </tr>\n",
       "  </thead>\n",
       "  <tbody>\n",
       "  </tbody>\n",
       "</table>\n",
       "</div>"
      ],
      "text/plain": [
       "Empty DataFrame\n",
       "Columns: [Rank, Name, Platform, Year, Genre, Publisher, NA_Sales, EU_Sales, JP_Sales, Other_Sales, Global_Sales]\n",
       "Index: []"
      ]
     },
     "execution_count": 81,
     "metadata": {},
     "output_type": "execute_result"
    }
   ],
   "source": [
    "# Check missing values in Year\n",
    "vgsales[vgsales['Year'].isnull()]"
   ]
  },
  {
   "cell_type": "code",
   "execution_count": null,
   "metadata": {},
   "outputs": [],
   "source": [
    "# Replace missing values in Publisher with 0\n",
    "vgsales['Publisher'][vgsales['Publisher'].isnull()] = 0"
   ]
  },
  {
   "cell_type": "code",
   "execution_count": 83,
   "metadata": {},
   "outputs": [
    {
     "data": {
      "text/html": [
       "<div>\n",
       "<style scoped>\n",
       "    .dataframe tbody tr th:only-of-type {\n",
       "        vertical-align: middle;\n",
       "    }\n",
       "\n",
       "    .dataframe tbody tr th {\n",
       "        vertical-align: top;\n",
       "    }\n",
       "\n",
       "    .dataframe thead th {\n",
       "        text-align: right;\n",
       "    }\n",
       "</style>\n",
       "<table border=\"1\" class=\"dataframe\">\n",
       "  <thead>\n",
       "    <tr style=\"text-align: right;\">\n",
       "      <th></th>\n",
       "      <th>Rank</th>\n",
       "      <th>Name</th>\n",
       "      <th>Platform</th>\n",
       "      <th>Year</th>\n",
       "      <th>Genre</th>\n",
       "      <th>Publisher</th>\n",
       "      <th>NA_Sales</th>\n",
       "      <th>EU_Sales</th>\n",
       "      <th>JP_Sales</th>\n",
       "      <th>Other_Sales</th>\n",
       "      <th>Global_Sales</th>\n",
       "    </tr>\n",
       "  </thead>\n",
       "  <tbody>\n",
       "  </tbody>\n",
       "</table>\n",
       "</div>"
      ],
      "text/plain": [
       "Empty DataFrame\n",
       "Columns: [Rank, Name, Platform, Year, Genre, Publisher, NA_Sales, EU_Sales, JP_Sales, Other_Sales, Global_Sales]\n",
       "Index: []"
      ]
     },
     "execution_count": 83,
     "metadata": {},
     "output_type": "execute_result"
    }
   ],
   "source": [
    "# Check missing values in Publisher\n",
    "vgsales[vgsales['Publisher'].isnull()]"
   ]
  },
  {
   "cell_type": "code",
   "execution_count": 84,
   "metadata": {},
   "outputs": [
    {
     "data": {
      "text/plain": [
       "(16598, 11)"
      ]
     },
     "execution_count": 84,
     "metadata": {},
     "output_type": "execute_result"
    }
   ],
   "source": [
    "# Check dimension of the dataset\n",
    "vgsales.shape"
   ]
  },
  {
   "cell_type": "code",
   "execution_count": 85,
   "metadata": {},
   "outputs": [],
   "source": [
    "# Make a copy of dataframe\n",
    "vgsales_fct = vgsales.copy()"
   ]
  },
  {
   "cell_type": "code",
   "execution_count": 86,
   "metadata": {},
   "outputs": [],
   "source": [
    "# Factorize 'Platform', 'Genre', 'Publisher', and 'Name' variables\n",
    "vgsales_fct['Platform'] = pd.Categorical(vgsales_fct['Platform'], ordered=False).codes +1\n",
    "vgsales_fct['Genre'] = pd.Categorical(vgsales_fct['Genre'], ordered=False).codes +1\n",
    "vgsales_fct['Publisher'] = pd.Categorical(vgsales_fct['Publisher'], ordered=False).codes +1\n",
    "vgsales_fct['Name'] = pd.Categorical(vgsales_fct['Name'], ordered=False).codes +1"
   ]
  },
  {
   "cell_type": "code",
   "execution_count": 87,
   "metadata": {},
   "outputs": [],
   "source": [
    "# Remove 'Global_Sales' column as it is a redundant column for our analysis \n",
    "vgsales_fct = vgsales_fct.drop('Global_Sales', axis=1) "
   ]
  },
  {
   "cell_type": "code",
   "execution_count": 88,
   "metadata": {},
   "outputs": [
    {
     "data": {
      "text/html": [
       "<div>\n",
       "<style scoped>\n",
       "    .dataframe tbody tr th:only-of-type {\n",
       "        vertical-align: middle;\n",
       "    }\n",
       "\n",
       "    .dataframe tbody tr th {\n",
       "        vertical-align: top;\n",
       "    }\n",
       "\n",
       "    .dataframe thead th {\n",
       "        text-align: right;\n",
       "    }\n",
       "</style>\n",
       "<table border=\"1\" class=\"dataframe\">\n",
       "  <thead>\n",
       "    <tr style=\"text-align: right;\">\n",
       "      <th></th>\n",
       "      <th>Rank</th>\n",
       "      <th>Name</th>\n",
       "      <th>Platform</th>\n",
       "      <th>Year</th>\n",
       "      <th>Genre</th>\n",
       "      <th>Publisher</th>\n",
       "      <th>NA_Sales</th>\n",
       "      <th>EU_Sales</th>\n",
       "      <th>JP_Sales</th>\n",
       "      <th>Other_Sales</th>\n",
       "    </tr>\n",
       "  </thead>\n",
       "  <tbody>\n",
       "    <tr>\n",
       "      <th>0</th>\n",
       "      <td>1</td>\n",
       "      <td>11008</td>\n",
       "      <td>27</td>\n",
       "      <td>2006</td>\n",
       "      <td>11</td>\n",
       "      <td>361</td>\n",
       "      <td>41.49</td>\n",
       "      <td>29.02</td>\n",
       "      <td>3.77</td>\n",
       "      <td>8.46</td>\n",
       "    </tr>\n",
       "    <tr>\n",
       "      <th>1</th>\n",
       "      <td>2</td>\n",
       "      <td>9328</td>\n",
       "      <td>12</td>\n",
       "      <td>1985</td>\n",
       "      <td>5</td>\n",
       "      <td>361</td>\n",
       "      <td>29.08</td>\n",
       "      <td>3.58</td>\n",
       "      <td>6.81</td>\n",
       "      <td>0.77</td>\n",
       "    </tr>\n",
       "    <tr>\n",
       "      <th>2</th>\n",
       "      <td>3</td>\n",
       "      <td>5574</td>\n",
       "      <td>27</td>\n",
       "      <td>2008</td>\n",
       "      <td>7</td>\n",
       "      <td>361</td>\n",
       "      <td>15.85</td>\n",
       "      <td>12.88</td>\n",
       "      <td>3.79</td>\n",
       "      <td>3.31</td>\n",
       "    </tr>\n",
       "    <tr>\n",
       "      <th>3</th>\n",
       "      <td>4</td>\n",
       "      <td>11010</td>\n",
       "      <td>27</td>\n",
       "      <td>2009</td>\n",
       "      <td>11</td>\n",
       "      <td>361</td>\n",
       "      <td>15.75</td>\n",
       "      <td>11.01</td>\n",
       "      <td>3.28</td>\n",
       "      <td>2.96</td>\n",
       "    </tr>\n",
       "    <tr>\n",
       "      <th>4</th>\n",
       "      <td>5</td>\n",
       "      <td>7347</td>\n",
       "      <td>6</td>\n",
       "      <td>1996</td>\n",
       "      <td>8</td>\n",
       "      <td>361</td>\n",
       "      <td>11.27</td>\n",
       "      <td>8.89</td>\n",
       "      <td>10.22</td>\n",
       "      <td>1.00</td>\n",
       "    </tr>\n",
       "  </tbody>\n",
       "</table>\n",
       "</div>"
      ],
      "text/plain": [
       "   Rank   Name  Platform  Year  Genre  Publisher  NA_Sales  EU_Sales  \\\n",
       "0     1  11008        27  2006     11        361     41.49     29.02   \n",
       "1     2   9328        12  1985      5        361     29.08      3.58   \n",
       "2     3   5574        27  2008      7        361     15.85     12.88   \n",
       "3     4  11010        27  2009     11        361     15.75     11.01   \n",
       "4     5   7347         6  1996      8        361     11.27      8.89   \n",
       "\n",
       "   JP_Sales  Other_Sales  \n",
       "0      3.77         8.46  \n",
       "1      6.81         0.77  \n",
       "2      3.79         3.31  \n",
       "3      3.28         2.96  \n",
       "4     10.22         1.00  "
      ]
     },
     "execution_count": 88,
     "metadata": {},
     "output_type": "execute_result"
    }
   ],
   "source": [
    "# Look at first 5 records\n",
    "vgsales_fct.head()"
   ]
  },
  {
   "cell_type": "code",
   "execution_count": 89,
   "metadata": {},
   "outputs": [
    {
     "data": {
      "text/html": [
       "<div>\n",
       "<style scoped>\n",
       "    .dataframe tbody tr th:only-of-type {\n",
       "        vertical-align: middle;\n",
       "    }\n",
       "\n",
       "    .dataframe tbody tr th {\n",
       "        vertical-align: top;\n",
       "    }\n",
       "\n",
       "    .dataframe thead th {\n",
       "        text-align: right;\n",
       "    }\n",
       "</style>\n",
       "<table border=\"1\" class=\"dataframe\">\n",
       "  <thead>\n",
       "    <tr style=\"text-align: right;\">\n",
       "      <th></th>\n",
       "      <th>Rank</th>\n",
       "      <th>Name</th>\n",
       "      <th>Platform</th>\n",
       "      <th>Year</th>\n",
       "      <th>Genre</th>\n",
       "      <th>Publisher</th>\n",
       "      <th>EU_Sales</th>\n",
       "      <th>JP_Sales</th>\n",
       "      <th>Other_Sales</th>\n",
       "    </tr>\n",
       "  </thead>\n",
       "  <tbody>\n",
       "    <tr>\n",
       "      <th>0</th>\n",
       "      <td>1</td>\n",
       "      <td>11008</td>\n",
       "      <td>27</td>\n",
       "      <td>2006</td>\n",
       "      <td>11</td>\n",
       "      <td>361</td>\n",
       "      <td>29.02</td>\n",
       "      <td>3.77</td>\n",
       "      <td>8.46</td>\n",
       "    </tr>\n",
       "    <tr>\n",
       "      <th>1</th>\n",
       "      <td>2</td>\n",
       "      <td>9328</td>\n",
       "      <td>12</td>\n",
       "      <td>1985</td>\n",
       "      <td>5</td>\n",
       "      <td>361</td>\n",
       "      <td>3.58</td>\n",
       "      <td>6.81</td>\n",
       "      <td>0.77</td>\n",
       "    </tr>\n",
       "    <tr>\n",
       "      <th>2</th>\n",
       "      <td>3</td>\n",
       "      <td>5574</td>\n",
       "      <td>27</td>\n",
       "      <td>2008</td>\n",
       "      <td>7</td>\n",
       "      <td>361</td>\n",
       "      <td>12.88</td>\n",
       "      <td>3.79</td>\n",
       "      <td>3.31</td>\n",
       "    </tr>\n",
       "    <tr>\n",
       "      <th>3</th>\n",
       "      <td>4</td>\n",
       "      <td>11010</td>\n",
       "      <td>27</td>\n",
       "      <td>2009</td>\n",
       "      <td>11</td>\n",
       "      <td>361</td>\n",
       "      <td>11.01</td>\n",
       "      <td>3.28</td>\n",
       "      <td>2.96</td>\n",
       "    </tr>\n",
       "    <tr>\n",
       "      <th>4</th>\n",
       "      <td>5</td>\n",
       "      <td>7347</td>\n",
       "      <td>6</td>\n",
       "      <td>1996</td>\n",
       "      <td>8</td>\n",
       "      <td>361</td>\n",
       "      <td>8.89</td>\n",
       "      <td>10.22</td>\n",
       "      <td>1.00</td>\n",
       "    </tr>\n",
       "    <tr>\n",
       "      <th>...</th>\n",
       "      <td>...</td>\n",
       "      <td>...</td>\n",
       "      <td>...</td>\n",
       "      <td>...</td>\n",
       "      <td>...</td>\n",
       "      <td>...</td>\n",
       "      <td>...</td>\n",
       "      <td>...</td>\n",
       "      <td>...</td>\n",
       "    </tr>\n",
       "    <tr>\n",
       "      <th>16593</th>\n",
       "      <td>16596</td>\n",
       "      <td>11102</td>\n",
       "      <td>7</td>\n",
       "      <td>2002</td>\n",
       "      <td>5</td>\n",
       "      <td>271</td>\n",
       "      <td>0.00</td>\n",
       "      <td>0.00</td>\n",
       "      <td>0.00</td>\n",
       "    </tr>\n",
       "    <tr>\n",
       "      <th>16594</th>\n",
       "      <td>16597</td>\n",
       "      <td>5797</td>\n",
       "      <td>8</td>\n",
       "      <td>2003</td>\n",
       "      <td>9</td>\n",
       "      <td>243</td>\n",
       "      <td>0.00</td>\n",
       "      <td>0.00</td>\n",
       "      <td>0.00</td>\n",
       "    </tr>\n",
       "    <tr>\n",
       "      <th>16595</th>\n",
       "      <td>16598</td>\n",
       "      <td>8145</td>\n",
       "      <td>17</td>\n",
       "      <td>2008</td>\n",
       "      <td>7</td>\n",
       "      <td>23</td>\n",
       "      <td>0.00</td>\n",
       "      <td>0.00</td>\n",
       "      <td>0.00</td>\n",
       "    </tr>\n",
       "    <tr>\n",
       "      <th>16596</th>\n",
       "      <td>16599</td>\n",
       "      <td>5015</td>\n",
       "      <td>5</td>\n",
       "      <td>2010</td>\n",
       "      <td>6</td>\n",
       "      <td>10</td>\n",
       "      <td>0.01</td>\n",
       "      <td>0.00</td>\n",
       "      <td>0.00</td>\n",
       "    </tr>\n",
       "    <tr>\n",
       "      <th>16597</th>\n",
       "      <td>16600</td>\n",
       "      <td>8968</td>\n",
       "      <td>7</td>\n",
       "      <td>2003</td>\n",
       "      <td>5</td>\n",
       "      <td>548</td>\n",
       "      <td>0.00</td>\n",
       "      <td>0.00</td>\n",
       "      <td>0.00</td>\n",
       "    </tr>\n",
       "  </tbody>\n",
       "</table>\n",
       "<p>16598 rows × 9 columns</p>\n",
       "</div>"
      ],
      "text/plain": [
       "        Rank   Name  Platform  Year  Genre  Publisher  EU_Sales  JP_Sales  \\\n",
       "0          1  11008        27  2006     11        361     29.02      3.77   \n",
       "1          2   9328        12  1985      5        361      3.58      6.81   \n",
       "2          3   5574        27  2008      7        361     12.88      3.79   \n",
       "3          4  11010        27  2009     11        361     11.01      3.28   \n",
       "4          5   7347         6  1996      8        361      8.89     10.22   \n",
       "...      ...    ...       ...   ...    ...        ...       ...       ...   \n",
       "16593  16596  11102         7  2002      5        271      0.00      0.00   \n",
       "16594  16597   5797         8  2003      9        243      0.00      0.00   \n",
       "16595  16598   8145        17  2008      7         23      0.00      0.00   \n",
       "16596  16599   5015         5  2010      6         10      0.01      0.00   \n",
       "16597  16600   8968         7  2003      5        548      0.00      0.00   \n",
       "\n",
       "       Other_Sales  \n",
       "0             8.46  \n",
       "1             0.77  \n",
       "2             3.31  \n",
       "3             2.96  \n",
       "4             1.00  \n",
       "...            ...  \n",
       "16593         0.00  \n",
       "16594         0.00  \n",
       "16595         0.00  \n",
       "16596         0.00  \n",
       "16597         0.00  \n",
       "\n",
       "[16598 rows x 9 columns]"
      ]
     },
     "execution_count": 89,
     "metadata": {},
     "output_type": "execute_result"
    }
   ],
   "source": [
    "# Reformat X variables\n",
    "X = vgsales_fct.iloc[:, [0, 1, 2, 3, 4, 5, 7, 8, 9]]\n",
    "X"
   ]
  },
  {
   "cell_type": "code",
   "execution_count": 90,
   "metadata": {},
   "outputs": [
    {
     "data": {
      "text/plain": [
       "array([4.149e+01, 2.908e+01, 1.585e+01, ..., 0.000e+00, 0.000e+00,\n",
       "       1.000e-02])"
      ]
     },
     "execution_count": 90,
     "metadata": {},
     "output_type": "execute_result"
    }
   ],
   "source": [
    "# Reformat y variable\n",
    "y = vgsales_fct['NA_Sales'].values\n",
    "y"
   ]
  },
  {
   "cell_type": "markdown",
   "metadata": {},
   "source": [
    "### <a id=\"f1_ID\">6.1 Splitting into Train and Test Sets</a>"
   ]
  },
  {
   "cell_type": "code",
   "execution_count": 91,
   "metadata": {},
   "outputs": [],
   "source": [
    "# Import Train Test Split library\n",
    "from sklearn.model_selection import train_test_split"
   ]
  },
  {
   "cell_type": "code",
   "execution_count": 92,
   "metadata": {},
   "outputs": [],
   "source": [
    "# Split train set (75%) and test set (25%), shuffle = True (default)\n",
    "X_train, X_test, y_train, y_test = train_test_split(X, y, test_size=0.25, random_state=42)"
   ]
  },
  {
   "cell_type": "code",
   "execution_count": 93,
   "metadata": {},
   "outputs": [
    {
     "name": "stdout",
     "output_type": "stream",
     "text": [
      "(12448, 9)\n",
      "(4150, 9)\n",
      "(12448,)\n",
      "(4150,)\n"
     ]
    }
   ],
   "source": [
    "# Check dimensions of train and test sets\n",
    "print(X_train.shape)\n",
    "print(X_test.shape)\n",
    "print(y_train.shape)\n",
    "print(y_test.shape)"
   ]
  },
  {
   "cell_type": "markdown",
   "metadata": {},
   "source": [
    "### <a id=\"f2_ID\">6.2 Feature Scaling</a>"
   ]
  },
  {
   "cell_type": "markdown",
   "metadata": {},
   "source": [
    "Feature scaling standardizes features and scales to unit variance. This allows for all features to be on the same scale, so machine learning models do not become sensitive to large values."
   ]
  },
  {
   "cell_type": "code",
   "execution_count": 94,
   "metadata": {},
   "outputs": [],
   "source": [
    "# Import Standard Scaler library\n",
    "from sklearn.preprocessing import StandardScaler"
   ]
  },
  {
   "cell_type": "code",
   "execution_count": 95,
   "metadata": {},
   "outputs": [],
   "source": [
    "# Instantiate Standard Scaler object and fit to X train data\n",
    "sc = StandardScaler()\n",
    "X_train_sc = sc.fit_transform(X_train)"
   ]
  },
  {
   "cell_type": "code",
   "execution_count": 96,
   "metadata": {},
   "outputs": [],
   "source": [
    "# Fit to X test data \n",
    "X_test_sc = sc.transform(X_test)"
   ]
  },
  {
   "cell_type": "code",
   "execution_count": 97,
   "metadata": {},
   "outputs": [],
   "source": [
    "# Instantiate Standard Scaler object and fit to X train data\n",
    "sc_y = StandardScaler()\n",
    "y_train_sc = sc_y.fit_transform(y_train.reshape(-1, 1))"
   ]
  },
  {
   "cell_type": "code",
   "execution_count": 98,
   "metadata": {},
   "outputs": [
    {
     "data": {
      "text/html": [
       "<div>\n",
       "<style scoped>\n",
       "    .dataframe tbody tr th:only-of-type {\n",
       "        vertical-align: middle;\n",
       "    }\n",
       "\n",
       "    .dataframe tbody tr th {\n",
       "        vertical-align: top;\n",
       "    }\n",
       "\n",
       "    .dataframe thead th {\n",
       "        text-align: right;\n",
       "    }\n",
       "</style>\n",
       "<table border=\"1\" class=\"dataframe\">\n",
       "  <thead>\n",
       "    <tr style=\"text-align: right;\">\n",
       "      <th></th>\n",
       "      <th>Rank</th>\n",
       "      <th>Name</th>\n",
       "      <th>Platform</th>\n",
       "      <th>Year</th>\n",
       "      <th>Genre</th>\n",
       "      <th>Publisher</th>\n",
       "      <th>EU_Sales</th>\n",
       "      <th>JP_Sales</th>\n",
       "      <th>Other_Sales</th>\n",
       "    </tr>\n",
       "  </thead>\n",
       "  <tbody>\n",
       "    <tr>\n",
       "      <th>0</th>\n",
       "      <td>0.953415</td>\n",
       "      <td>1.684218</td>\n",
       "      <td>1.580705</td>\n",
       "      <td>0.114608</td>\n",
       "      <td>-0.245273</td>\n",
       "      <td>-0.284853</td>\n",
       "      <td>-0.298086</td>\n",
       "      <td>-0.249154</td>\n",
       "      <td>-0.270455</td>\n",
       "    </tr>\n",
       "    <tr>\n",
       "      <th>1</th>\n",
       "      <td>0.871589</td>\n",
       "      <td>0.702910</td>\n",
       "      <td>-0.691574</td>\n",
       "      <td>0.099204</td>\n",
       "      <td>0.287471</td>\n",
       "      <td>1.310595</td>\n",
       "      <td>-0.298086</td>\n",
       "      <td>-0.249154</td>\n",
       "      <td>-0.270455</td>\n",
       "    </tr>\n",
       "    <tr>\n",
       "      <th>2</th>\n",
       "      <td>0.141402</td>\n",
       "      <td>1.170900</td>\n",
       "      <td>-1.169948</td>\n",
       "      <td>0.114608</td>\n",
       "      <td>1.352958</td>\n",
       "      <td>-0.093849</td>\n",
       "      <td>-0.320493</td>\n",
       "      <td>0.194243</td>\n",
       "      <td>-0.270455</td>\n",
       "    </tr>\n",
       "    <tr>\n",
       "      <th>3</th>\n",
       "      <td>0.353983</td>\n",
       "      <td>-0.792918</td>\n",
       "      <td>0.384769</td>\n",
       "      <td>0.153119</td>\n",
       "      <td>0.553843</td>\n",
       "      <td>0.973529</td>\n",
       "      <td>-0.320493</td>\n",
       "      <td>0.099230</td>\n",
       "      <td>-0.270455</td>\n",
       "    </tr>\n",
       "    <tr>\n",
       "      <th>4</th>\n",
       "      <td>0.286107</td>\n",
       "      <td>0.910939</td>\n",
       "      <td>1.221924</td>\n",
       "      <td>0.141566</td>\n",
       "      <td>0.021099</td>\n",
       "      <td>-1.071341</td>\n",
       "      <td>-0.320493</td>\n",
       "      <td>-0.249154</td>\n",
       "      <td>-0.213332</td>\n",
       "    </tr>\n",
       "    <tr>\n",
       "      <th>...</th>\n",
       "      <td>...</td>\n",
       "      <td>...</td>\n",
       "      <td>...</td>\n",
       "      <td>...</td>\n",
       "      <td>...</td>\n",
       "      <td>...</td>\n",
       "      <td>...</td>\n",
       "      <td>...</td>\n",
       "      <td>...</td>\n",
       "    </tr>\n",
       "    <tr>\n",
       "      <th>12443</th>\n",
       "      <td>0.616534</td>\n",
       "      <td>-0.081477</td>\n",
       "      <td>0.384769</td>\n",
       "      <td>0.141566</td>\n",
       "      <td>1.352958</td>\n",
       "      <td>0.956675</td>\n",
       "      <td>-0.320493</td>\n",
       "      <td>-0.249154</td>\n",
       "      <td>-0.213332</td>\n",
       "    </tr>\n",
       "    <tr>\n",
       "      <th>12444</th>\n",
       "      <td>0.758115</td>\n",
       "      <td>0.859007</td>\n",
       "      <td>0.025988</td>\n",
       "      <td>0.137715</td>\n",
       "      <td>-1.310759</td>\n",
       "      <td>-0.093849</td>\n",
       "      <td>-0.253274</td>\n",
       "      <td>-0.249154</td>\n",
       "      <td>-0.213332</td>\n",
       "    </tr>\n",
       "    <tr>\n",
       "      <th>12445</th>\n",
       "      <td>-0.610647</td>\n",
       "      <td>1.188311</td>\n",
       "      <td>1.221924</td>\n",
       "      <td>0.149268</td>\n",
       "      <td>-1.310759</td>\n",
       "      <td>1.310595</td>\n",
       "      <td>0.060411</td>\n",
       "      <td>-0.249154</td>\n",
       "      <td>-0.041961</td>\n",
       "    </tr>\n",
       "    <tr>\n",
       "      <th>12446</th>\n",
       "      <td>-1.553831</td>\n",
       "      <td>0.972777</td>\n",
       "      <td>0.025988</td>\n",
       "      <td>0.114608</td>\n",
       "      <td>-0.245273</td>\n",
       "      <td>1.333066</td>\n",
       "      <td>1.808084</td>\n",
       "      <td>-0.249154</td>\n",
       "      <td>1.329001</td>\n",
       "    </tr>\n",
       "    <tr>\n",
       "      <th>12447</th>\n",
       "      <td>1.555970</td>\n",
       "      <td>0.983284</td>\n",
       "      <td>-0.332793</td>\n",
       "      <td>0.130013</td>\n",
       "      <td>1.086586</td>\n",
       "      <td>1.310595</td>\n",
       "      <td>-0.298086</td>\n",
       "      <td>-0.249154</td>\n",
       "      <td>-0.270455</td>\n",
       "    </tr>\n",
       "  </tbody>\n",
       "</table>\n",
       "<p>12448 rows × 9 columns</p>\n",
       "</div>"
      ],
      "text/plain": [
       "           Rank      Name  Platform      Year     Genre  Publisher  EU_Sales  \\\n",
       "0      0.953415  1.684218  1.580705  0.114608 -0.245273  -0.284853 -0.298086   \n",
       "1      0.871589  0.702910 -0.691574  0.099204  0.287471   1.310595 -0.298086   \n",
       "2      0.141402  1.170900 -1.169948  0.114608  1.352958  -0.093849 -0.320493   \n",
       "3      0.353983 -0.792918  0.384769  0.153119  0.553843   0.973529 -0.320493   \n",
       "4      0.286107  0.910939  1.221924  0.141566  0.021099  -1.071341 -0.320493   \n",
       "...         ...       ...       ...       ...       ...        ...       ...   \n",
       "12443  0.616534 -0.081477  0.384769  0.141566  1.352958   0.956675 -0.320493   \n",
       "12444  0.758115  0.859007  0.025988  0.137715 -1.310759  -0.093849 -0.253274   \n",
       "12445 -0.610647  1.188311  1.221924  0.149268 -1.310759   1.310595  0.060411   \n",
       "12446 -1.553831  0.972777  0.025988  0.114608 -0.245273   1.333066  1.808084   \n",
       "12447  1.555970  0.983284 -0.332793  0.130013  1.086586   1.310595 -0.298086   \n",
       "\n",
       "       JP_Sales  Other_Sales  \n",
       "0     -0.249154    -0.270455  \n",
       "1     -0.249154    -0.270455  \n",
       "2      0.194243    -0.270455  \n",
       "3      0.099230    -0.270455  \n",
       "4     -0.249154    -0.213332  \n",
       "...         ...          ...  \n",
       "12443 -0.249154    -0.213332  \n",
       "12444 -0.249154    -0.213332  \n",
       "12445 -0.249154    -0.041961  \n",
       "12446 -0.249154     1.329001  \n",
       "12447 -0.249154    -0.270455  \n",
       "\n",
       "[12448 rows x 9 columns]"
      ]
     },
     "execution_count": 98,
     "metadata": {},
     "output_type": "execute_result"
    }
   ],
   "source": [
    "# Create dataframe with scaled X train data\n",
    "df = pd.DataFrame(X_train_sc, columns = [\"Rank\", \"Name\", \"Platform\", \"Year\", \"Genre\", \"Publisher\", \"EU_Sales\", \"JP_Sales\", \"Other_Sales\"])\n",
    "df"
   ]
  },
  {
   "cell_type": "markdown",
   "metadata": {},
   "source": [
    "## <a id=\"g_ID\">7. Feature Selection</a>"
   ]
  },
  {
   "cell_type": "markdown",
   "metadata": {},
   "source": [
    "### <a id=\"g1_ID\">7.1 Recursive Feature Elimination with Cross-validation</a>"
   ]
  },
  {
   "cell_type": "markdown",
   "metadata": {},
   "source": [
    "Recursive Feature Elimination (RFE) is a feature selection method that removes the weakest features until an optimal number of features is selected."
   ]
  },
  {
   "cell_type": "code",
   "execution_count": 99,
   "metadata": {},
   "outputs": [],
   "source": [
    "# Import Stratifited KFold and RFECV libraries\n",
    "from sklearn.model_selection import StratifiedKFold\n",
    "from sklearn.feature_selection import RFECV"
   ]
  },
  {
   "cell_type": "code",
   "execution_count": 100,
   "metadata": {},
   "outputs": [],
   "source": [
    "# Import linear regression library\n",
    "from sklearn.linear_model import LinearRegression"
   ]
  },
  {
   "cell_type": "code",
   "execution_count": 101,
   "metadata": {},
   "outputs": [],
   "source": [
    "# Instantiate linear regression object\n",
    "lr = LinearRegression()"
   ]
  },
  {
   "cell_type": "code",
   "execution_count": 102,
   "metadata": {},
   "outputs": [
    {
     "data": {
      "text/plain": [
       "RFECV(cv=10, estimator=LinearRegression(), scoring='neg_mean_squared_error')"
      ]
     },
     "execution_count": 102,
     "metadata": {},
     "output_type": "execute_result"
    }
   ],
   "source": [
    "# Create RFE object and fit to data\n",
    "rfecv = RFECV(estimator = lr, step = 1, cv=10, scoring='neg_mean_squared_error')\n",
    "rfecv.fit(X_train_sc, y_train_sc)"
   ]
  },
  {
   "cell_type": "code",
   "execution_count": 103,
   "metadata": {},
   "outputs": [
    {
     "name": "stdout",
     "output_type": "stream",
     "text": [
      "Optimal number of features : 6\n"
     ]
    },
    {
     "data": {
      "image/png": "[encoded data removed]",
      "text/plain": [
       "<Figure size 432x288 with 1 Axes>"
      ]
     },
     "metadata": {
      "needs_background": "light"
     },
     "output_type": "display_data"
    }
   ],
   "source": [
    "# Determine optimal number of features\n",
    "print(f\"Optimal number of features : {rfecv.n_features_}\")\n",
    "\n",
    "# Plot number of features selected vs. cross-validation mean squared error score\n",
    "plt.figure()\n",
    "plt.xlabel(\"Number of features selected\")\n",
    "plt.ylabel(\"Cross validation Mean Squared Error score\")\n",
    "plt.plot(range(1, len(rfecv.grid_scores_) + 1), -rfecv.grid_scores_)\n",
    "plt.show()"
   ]
  },
  {
   "cell_type": "code",
   "execution_count": 104,
   "metadata": {},
   "outputs": [
    {
     "data": {
      "text/plain": [
       "array([-0.50609618, -0.49919207, -0.49155361, -0.45622234, -0.4560219 ,\n",
       "       -0.45596829, -0.45598775, -0.45602333, -0.45602651])"
      ]
     },
     "execution_count": 104,
     "metadata": {},
     "output_type": "execute_result"
    }
   ],
   "source": [
    "# Show grid scores\n",
    "rfecv.grid_scores_"
   ]
  },
  {
   "cell_type": "code",
   "execution_count": 105,
   "metadata": {},
   "outputs": [
    {
     "data": {
      "text/plain": [
       "6"
      ]
     },
     "execution_count": 105,
     "metadata": {},
     "output_type": "execute_result"
    }
   ],
   "source": [
    "# Show number of features\n",
    "rfecv.n_features_"
   ]
  },
  {
   "cell_type": "code",
   "execution_count": 106,
   "metadata": {},
   "outputs": [
    {
     "data": {
      "text/plain": [
       "array([ True, False, False,  True, False,  True,  True,  True,  True])"
      ]
     },
     "execution_count": 106,
     "metadata": {},
     "output_type": "execute_result"
    }
   ],
   "source": [
    "# Show support\n",
    "rfecv.support_"
   ]
  },
  {
   "cell_type": "code",
   "execution_count": 107,
   "metadata": {},
   "outputs": [
    {
     "data": {
      "text/plain": [
       "array([1, 4, 2, 1, 3, 1, 1, 1, 1])"
      ]
     },
     "execution_count": 107,
     "metadata": {},
     "output_type": "execute_result"
    }
   ],
   "source": [
    "# Show ranking\n",
    "rfecv.ranking_"
   ]
  },
  {
   "cell_type": "markdown",
   "metadata": {},
   "source": [
    "## Recursive Feature Elimination (RFE)"
   ]
  },
  {
   "cell_type": "code",
   "execution_count": 108,
   "metadata": {},
   "outputs": [],
   "source": [
    "from sklearn.feature_selection import RFE"
   ]
  },
  {
   "cell_type": "code",
   "execution_count": 109,
   "metadata": {},
   "outputs": [],
   "source": [
    "# Instantiate linear regression object\n",
    "linreg = LinearRegression()"
   ]
  },
  {
   "cell_type": "code",
   "execution_count": 110,
   "metadata": {},
   "outputs": [
    {
     "data": {
      "text/plain": [
       "RFE(estimator=LinearRegression(), n_features_to_select=6)"
      ]
     },
     "execution_count": 110,
     "metadata": {},
     "output_type": "execute_result"
    }
   ],
   "source": [
    "# Create RFE object and fit to data\n",
    "rfe = RFE(estimator=linreg, n_features_to_select=6, step=1)\n",
    "rfe.fit(X_train_sc, y_train_sc)"
   ]
  },
  {
   "cell_type": "code",
   "execution_count": 111,
   "metadata": {},
   "outputs": [],
   "source": [
    "# X train data with selected features\n",
    "X_train_sc_rfe = rfe.transform(X_train_sc)"
   ]
  },
  {
   "cell_type": "code",
   "execution_count": 112,
   "metadata": {},
   "outputs": [],
   "source": [
    "# X test data with selected features\n",
    "X_test_sc_rfe = rfe.transform(X_test_sc)"
   ]
  },
  {
   "cell_type": "code",
   "execution_count": 113,
   "metadata": {},
   "outputs": [
    {
     "data": {
      "text/plain": [
       "array([1, 4, 2, 1, 3, 1, 1, 1, 1])"
      ]
     },
     "execution_count": 113,
     "metadata": {},
     "output_type": "execute_result"
    }
   ],
   "source": [
    "rfe.ranking_"
   ]
  },
  {
   "cell_type": "code",
   "execution_count": 114,
   "metadata": {},
   "outputs": [
    {
     "name": "stdout",
     "output_type": "stream",
     "text": [
      "Index(['Rank', 'Year', 'Publisher', 'EU_Sales', 'JP_Sales', 'Other_Sales'], dtype='object')\n"
     ]
    }
   ],
   "source": [
    "# 6 Selected features\n",
    "print(df.columns[rfe.ranking_ == 1])"
   ]
  },
  {
   "cell_type": "markdown",
   "metadata": {},
   "source": [
    "Using RFE CV, the optimal number of features selected was 6. For the estimator parameter, linear was chosen over support vector regression as it was more efficent."
   ]
  },
  {
   "cell_type": "markdown",
   "metadata": {},
   "source": [
    "## <a id=\"h_ID\">8. Feature Extraction</a>"
   ]
  },
  {
   "cell_type": "markdown",
   "metadata": {},
   "source": [
    "### <a id=\"h1_ID\">8.1 Prinicpal Component Analysis (PCA)</a>"
   ]
  },
  {
   "cell_type": "markdown",
   "metadata": {},
   "source": [
    "Prinicpal Component Analysis (PCA) is a linear dimensionality reduction using singular value decompositon to a lower dimensional space."
   ]
  },
  {
   "cell_type": "code",
   "execution_count": 115,
   "metadata": {},
   "outputs": [],
   "source": [
    "# Import decomposition and PCA libraries \n",
    "from sklearn import decomposition\n",
    "from sklearn.decomposition import PCA"
   ]
  },
  {
   "cell_type": "code",
   "execution_count": 116,
   "metadata": {},
   "outputs": [],
   "source": [
    "np.random.seed(6)"
   ]
  },
  {
   "cell_type": "code",
   "execution_count": 118,
   "metadata": {},
   "outputs": [
    {
     "data": {
      "text/plain": [
       "PCA(n_components=2)"
      ]
     },
     "execution_count": 118,
     "metadata": {},
     "output_type": "execute_result"
    }
   ],
   "source": [
    "# Instantiate PCA object with n_components = 2 and fit to data\n",
    "pca = decomposition.PCA(n_components=2)\n",
    "pca.fit(X_train_sc)"
   ]
  },
  {
   "cell_type": "code",
   "execution_count": 120,
   "metadata": {},
   "outputs": [],
   "source": [
    "X_train_pca = pca.transform(X_train_sc)"
   ]
  },
  {
   "cell_type": "code",
   "execution_count": 121,
   "metadata": {},
   "outputs": [
    {
     "data": {
      "text/plain": [
       "array([[-0.75487703, -0.79375253],\n",
       "       [-0.7735409 ,  1.09013358],\n",
       "       [-0.30932873,  0.14040094],\n",
       "       ...,\n",
       "       [ 0.25604366,  0.55189146],\n",
       "       [ 2.40213868,  0.59839106],\n",
       "       [-1.02450059,  0.59741427]])"
      ]
     },
     "execution_count": 121,
     "metadata": {},
     "output_type": "execute_result"
    }
   ],
   "source": [
    "X_train_pca"
   ]
  },
  {
   "cell_type": "code",
   "execution_count": 122,
   "metadata": {},
   "outputs": [
    {
     "data": {
      "text/plain": [
       "(12448, 2)"
      ]
     },
     "execution_count": 122,
     "metadata": {},
     "output_type": "execute_result"
    }
   ],
   "source": [
    "X_train_pca.shape"
   ]
  },
  {
   "cell_type": "markdown",
   "metadata": {},
   "source": [
    "The dimension of the dataset after applying PCA is (12448, 2)."
   ]
  },
  {
   "cell_type": "code",
   "execution_count": 123,
   "metadata": {},
   "outputs": [
    {
     "data": {
      "text/plain": [
       "2"
      ]
     },
     "execution_count": 123,
     "metadata": {},
     "output_type": "execute_result"
    }
   ],
   "source": [
    "pca.n_components_"
   ]
  },
  {
   "cell_type": "code",
   "execution_count": 124,
   "metadata": {},
   "outputs": [
    {
     "data": {
      "text/plain": [
       "array([2.25791444, 1.08648149])"
      ]
     },
     "execution_count": 124,
     "metadata": {},
     "output_type": "execute_result"
    }
   ],
   "source": [
    "pca.explained_variance_"
   ]
  },
  {
   "cell_type": "code",
   "execution_count": 125,
   "metadata": {},
   "outputs": [
    {
     "data": {
      "text/plain": [
       "array([0.25085923, 0.12071047])"
      ]
     },
     "execution_count": 125,
     "metadata": {},
     "output_type": "execute_result"
    }
   ],
   "source": [
    "pca.explained_variance_ratio_"
   ]
  },
  {
   "cell_type": "code",
   "execution_count": 127,
   "metadata": {},
   "outputs": [],
   "source": [
    "#The amount of variance that each PC explains\n",
    "var_Data= pca.explained_variance_ratio_\n",
    "#Cumulative Variance explained\n",
    "var_cum_Data=np.cumsum(np.round(pca.explained_variance_ratio_, decimals=7)*100)"
   ]
  },
  {
   "cell_type": "code",
   "execution_count": 128,
   "metadata": {},
   "outputs": [
    {
     "data": {
      "image/png": "[encoded data removed]",
      "text/plain": [
       "<Figure size 432x288 with 1 Axes>"
      ]
     },
     "metadata": {
      "needs_background": "light"
     },
     "output_type": "display_data"
    }
   ],
   "source": [
    "plt.plot(var_cum_Data)\n",
    "plt.ylabel('Cumulative Variance (%)')\n",
    "plt.xlabel('Number of Principal Components')\n",
    "plt.show()"
   ]
  },
  {
   "cell_type": "code",
   "execution_count": 129,
   "metadata": {},
   "outputs": [
    {
     "data": {
      "text/plain": [
       "array([25.08592, 37.15697])"
      ]
     },
     "execution_count": 129,
     "metadata": {},
     "output_type": "execute_result"
    }
   ],
   "source": [
    "var_cum_Data"
   ]
  },
  {
   "cell_type": "code",
   "execution_count": 130,
   "metadata": {},
   "outputs": [],
   "source": [
    "# Transform X test data\n",
    "X_test_pca = pca.transform(X_test_sc)"
   ]
  },
  {
   "cell_type": "code",
   "execution_count": 131,
   "metadata": {},
   "outputs": [
    {
     "data": {
      "text/plain": [
       "(4150, 2)"
      ]
     },
     "execution_count": 131,
     "metadata": {},
     "output_type": "execute_result"
    }
   ],
   "source": [
    "X_test_pca.shape"
   ]
  },
  {
   "cell_type": "code",
   "execution_count": 132,
   "metadata": {},
   "outputs": [],
   "source": [
    "np.random.seed(3)"
   ]
  },
  {
   "cell_type": "code",
   "execution_count": 133,
   "metadata": {},
   "outputs": [
    {
     "data": {
      "text/plain": [
       "PCA(n_components=6)"
      ]
     },
     "execution_count": 133,
     "metadata": {},
     "output_type": "execute_result"
    }
   ],
   "source": [
    "# Instantiate PCA object with n_components = 6 and fit to data\n",
    "pca_6 = decomposition.PCA(n_components=6)\n",
    "pca_6.fit(X_train_sc)"
   ]
  },
  {
   "cell_type": "code",
   "execution_count": 199,
   "metadata": {},
   "outputs": [],
   "source": [
    "X_train_pca_6 = pca_6.transform(X_train_sc)"
   ]
  },
  {
   "cell_type": "code",
   "execution_count": 200,
   "metadata": {},
   "outputs": [
    {
     "data": {
      "text/plain": [
       "array([[-0.75487703, -0.79375253, -1.65196998, -0.89635031, -0.67120542,\n",
       "         0.56542035],\n",
       "       [-0.7735409 ,  1.09013358, -0.51223074,  0.14091711, -0.67106923,\n",
       "        -0.83125011],\n",
       "       [-0.30932873,  0.14040094,  0.12533096,  0.86470242, -1.9325643 ,\n",
       "        -0.32524122],\n",
       "       ...,\n",
       "       [ 0.25604366,  0.55189146, -2.04567981, -1.39519157,  0.31338289,\n",
       "        -0.11845097],\n",
       "       [ 2.40213868,  0.59839106, -1.26179843, -0.49583843, -0.11321964,\n",
       "        -0.35942188],\n",
       "       [-1.02450059,  0.59741427, -0.74707145,  0.45412474, -1.06378449,\n",
       "        -1.17054104]])"
      ]
     },
     "execution_count": 200,
     "metadata": {},
     "output_type": "execute_result"
    }
   ],
   "source": [
    "X_train_pca_6"
   ]
  },
  {
   "cell_type": "code",
   "execution_count": 201,
   "metadata": {},
   "outputs": [
    {
     "data": {
      "text/plain": [
       "(12448, 6)"
      ]
     },
     "execution_count": 201,
     "metadata": {},
     "output_type": "execute_result"
    }
   ],
   "source": [
    "X_train_pca_6.shape"
   ]
  },
  {
   "cell_type": "markdown",
   "metadata": {},
   "source": [
    "The dimension of the dataset after applying PCA is (12448, 6)."
   ]
  },
  {
   "cell_type": "code",
   "execution_count": 137,
   "metadata": {},
   "outputs": [
    {
     "data": {
      "text/plain": [
       "6"
      ]
     },
     "execution_count": 137,
     "metadata": {},
     "output_type": "execute_result"
    }
   ],
   "source": [
    "pca_6.n_components_"
   ]
  },
  {
   "cell_type": "code",
   "execution_count": 138,
   "metadata": {},
   "outputs": [
    {
     "data": {
      "text/plain": [
       "array([2.25791444, 1.08648149, 1.03762426, 1.01028577, 0.98505048,\n",
       "       0.93816267])"
      ]
     },
     "execution_count": 138,
     "metadata": {},
     "output_type": "execute_result"
    }
   ],
   "source": [
    "pca_6.explained_variance_"
   ]
  },
  {
   "cell_type": "code",
   "execution_count": 139,
   "metadata": {},
   "outputs": [
    {
     "data": {
      "text/plain": [
       "array([0.25085923, 0.12071047, 0.11528232, 0.11224496, 0.10944126,\n",
       "       0.10423192])"
      ]
     },
     "execution_count": 139,
     "metadata": {},
     "output_type": "execute_result"
    }
   ],
   "source": [
    "pca_6.explained_variance_ratio_"
   ]
  },
  {
   "cell_type": "code",
   "execution_count": 140,
   "metadata": {},
   "outputs": [],
   "source": [
    "#The amount of variance that each PC explains\n",
    "var_Data= pca_6.explained_variance_ratio_\n",
    "#Cumulative Variance explained\n",
    "var_cum_Data=np.cumsum(np.round(pca_6.explained_variance_ratio_, decimals=7)*100)"
   ]
  },
  {
   "cell_type": "code",
   "execution_count": 141,
   "metadata": {},
   "outputs": [
    {
     "data": {
      "image/png": "[encoded data removed]",
      "text/plain": [
       "<Figure size 432x288 with 1 Axes>"
      ]
     },
     "metadata": {
      "needs_background": "light"
     },
     "output_type": "display_data"
    }
   ],
   "source": [
    "plt.plot(var_cum_Data)\n",
    "plt.ylabel('Cumulative Variance (%)')\n",
    "plt.xlabel('Number of Principal Components')\n",
    "plt.show()"
   ]
  },
  {
   "cell_type": "code",
   "execution_count": 142,
   "metadata": {},
   "outputs": [
    {
     "data": {
      "text/plain": [
       "array([25.08592, 37.15697, 48.6852 , 59.9097 , 70.85383, 81.27702])"
      ]
     },
     "execution_count": 142,
     "metadata": {},
     "output_type": "execute_result"
    }
   ],
   "source": [
    "var_cum_Data"
   ]
  },
  {
   "cell_type": "code",
   "execution_count": 143,
   "metadata": {},
   "outputs": [],
   "source": [
    "# Transform X test data\n",
    "X_test_pca_6 = pca_6.transform(X_test_sc)"
   ]
  },
  {
   "cell_type": "code",
   "execution_count": 144,
   "metadata": {},
   "outputs": [
    {
     "data": {
      "text/plain": [
       "(4150, 6)"
      ]
     },
     "execution_count": 144,
     "metadata": {},
     "output_type": "execute_result"
    }
   ],
   "source": [
    "X_test_pca_6.shape"
   ]
  },
  {
   "cell_type": "markdown",
   "metadata": {},
   "source": [
    "For our analysis, we will use PCA with 6 components."
   ]
  }
 ],
 "metadata": {
  "kernelspec": {
   "display_name": "Python 3",
   "language": "python",
   "name": "python3"
  },
  "language_info": {
   "codemirror_mode": {
    "name": "ipython",
    "version": 3
   },
   "file_extension": ".py",
   "mimetype": "text/x-python",
   "name": "python",
   "nbconvert_exporter": "python",
   "pygments_lexer": "ipython3",
   "version": "3.7.3"
  }
 },
 "nbformat": 4,
 "nbformat_minor": 4
}
