{
 "cells": [
  {
   "cell_type": "markdown",
   "metadata": {},
   "source": [
    "# <font color='blue'>Video Game Sales Prediction 1980 - 2020</font>"
   ]
  },
  {
   "cell_type": "markdown",
   "metadata": {},
   "source": [
    "## Table of Contents\n",
    "5. [Exploratory Analysis](#e_ID)\n",
    "\n",
    "    5.1 [Heirarchical Clustering](#e1_ID)\n",
    "    \n",
    "    5.2 [K-means Clustering](#e2_ID)"
   ]
  },
  {
   "cell_type": "markdown",
   "metadata": {},
   "source": [
    "## <a id=\"e_ID\">5. Exploratory Analysis</a>"
   ]
  },
  {
   "cell_type": "markdown",
   "metadata": {},
   "source": [
    "### <a id=\"e1_ID\">5.1 Heirarchical Clustering</a>"
   ]
  },
  {
   "cell_type": "markdown",
   "metadata": {},
   "source": [
    "Heirarchical clustering displays a set of nested clusters as a heirarchical tree. Merges and splits are displayed and close items are depicted by the height of bars."
   ]
  },
  {
   "cell_type": "code",
   "execution_count": 63,
   "metadata": {},
   "outputs": [
    {
     "data": {
      "text/html": [
       "<div>\n",
       "<style scoped>\n",
       "    .dataframe tbody tr th:only-of-type {\n",
       "        vertical-align: middle;\n",
       "    }\n",
       "\n",
       "    .dataframe tbody tr th {\n",
       "        vertical-align: top;\n",
       "    }\n",
       "\n",
       "    .dataframe thead th {\n",
       "        text-align: right;\n",
       "    }\n",
       "</style>\n",
       "<table border=\"1\" class=\"dataframe\">\n",
       "  <thead>\n",
       "    <tr style=\"text-align: right;\">\n",
       "      <th></th>\n",
       "      <th>Rank</th>\n",
       "      <th>NA_Sales</th>\n",
       "      <th>EU_Sales</th>\n",
       "      <th>JP_Sales</th>\n",
       "      <th>Other_Sales</th>\n",
       "      <th>Global_Sales</th>\n",
       "    </tr>\n",
       "  </thead>\n",
       "  <tbody>\n",
       "    <tr>\n",
       "      <th>0</th>\n",
       "      <td>1</td>\n",
       "      <td>41.49</td>\n",
       "      <td>29.02</td>\n",
       "      <td>3.77</td>\n",
       "      <td>8.46</td>\n",
       "      <td>82.74</td>\n",
       "    </tr>\n",
       "    <tr>\n",
       "      <th>1</th>\n",
       "      <td>2</td>\n",
       "      <td>29.08</td>\n",
       "      <td>3.58</td>\n",
       "      <td>6.81</td>\n",
       "      <td>0.77</td>\n",
       "      <td>40.24</td>\n",
       "    </tr>\n",
       "    <tr>\n",
       "      <th>2</th>\n",
       "      <td>3</td>\n",
       "      <td>15.85</td>\n",
       "      <td>12.88</td>\n",
       "      <td>3.79</td>\n",
       "      <td>3.31</td>\n",
       "      <td>35.82</td>\n",
       "    </tr>\n",
       "    <tr>\n",
       "      <th>3</th>\n",
       "      <td>4</td>\n",
       "      <td>15.75</td>\n",
       "      <td>11.01</td>\n",
       "      <td>3.28</td>\n",
       "      <td>2.96</td>\n",
       "      <td>33.00</td>\n",
       "    </tr>\n",
       "    <tr>\n",
       "      <th>4</th>\n",
       "      <td>5</td>\n",
       "      <td>11.27</td>\n",
       "      <td>8.89</td>\n",
       "      <td>10.22</td>\n",
       "      <td>1.00</td>\n",
       "      <td>31.37</td>\n",
       "    </tr>\n",
       "    <tr>\n",
       "      <th>...</th>\n",
       "      <td>...</td>\n",
       "      <td>...</td>\n",
       "      <td>...</td>\n",
       "      <td>...</td>\n",
       "      <td>...</td>\n",
       "      <td>...</td>\n",
       "    </tr>\n",
       "    <tr>\n",
       "      <th>16593</th>\n",
       "      <td>16596</td>\n",
       "      <td>0.01</td>\n",
       "      <td>0.00</td>\n",
       "      <td>0.00</td>\n",
       "      <td>0.00</td>\n",
       "      <td>0.01</td>\n",
       "    </tr>\n",
       "    <tr>\n",
       "      <th>16594</th>\n",
       "      <td>16597</td>\n",
       "      <td>0.01</td>\n",
       "      <td>0.00</td>\n",
       "      <td>0.00</td>\n",
       "      <td>0.00</td>\n",
       "      <td>0.01</td>\n",
       "    </tr>\n",
       "    <tr>\n",
       "      <th>16595</th>\n",
       "      <td>16598</td>\n",
       "      <td>0.00</td>\n",
       "      <td>0.00</td>\n",
       "      <td>0.00</td>\n",
       "      <td>0.00</td>\n",
       "      <td>0.01</td>\n",
       "    </tr>\n",
       "    <tr>\n",
       "      <th>16596</th>\n",
       "      <td>16599</td>\n",
       "      <td>0.00</td>\n",
       "      <td>0.01</td>\n",
       "      <td>0.00</td>\n",
       "      <td>0.00</td>\n",
       "      <td>0.01</td>\n",
       "    </tr>\n",
       "    <tr>\n",
       "      <th>16597</th>\n",
       "      <td>16600</td>\n",
       "      <td>0.01</td>\n",
       "      <td>0.00</td>\n",
       "      <td>0.00</td>\n",
       "      <td>0.00</td>\n",
       "      <td>0.01</td>\n",
       "    </tr>\n",
       "  </tbody>\n",
       "</table>\n",
       "<p>16598 rows × 6 columns</p>\n",
       "</div>"
      ],
      "text/plain": [
       "        Rank  NA_Sales  EU_Sales  JP_Sales  Other_Sales  Global_Sales\n",
       "0          1     41.49     29.02      3.77         8.46         82.74\n",
       "1          2     29.08      3.58      6.81         0.77         40.24\n",
       "2          3     15.85     12.88      3.79         3.31         35.82\n",
       "3          4     15.75     11.01      3.28         2.96         33.00\n",
       "4          5     11.27      8.89     10.22         1.00         31.37\n",
       "...      ...       ...       ...       ...          ...           ...\n",
       "16593  16596      0.01      0.00      0.00         0.00          0.01\n",
       "16594  16597      0.01      0.00      0.00         0.00          0.01\n",
       "16595  16598      0.00      0.00      0.00         0.00          0.01\n",
       "16596  16599      0.00      0.01      0.00         0.00          0.01\n",
       "16597  16600      0.01      0.00      0.00         0.00          0.01\n",
       "\n",
       "[16598 rows x 6 columns]"
      ]
     },
     "execution_count": 63,
     "metadata": {},
     "output_type": "execute_result"
    }
   ],
   "source": [
    "# Create dataframe with numeric features\n",
    "vgsales_numeric = pd.DataFrame(vgsales, columns = [\"Rank\", \"NA_Sales\", \"EU_Sales\", \"JP_Sales\", \"Other_Sales\", \"Global_Sales\"])\n",
    "vgsales_numeric"
   ]
  },
  {
   "cell_type": "code",
   "execution_count": 64,
   "metadata": {},
   "outputs": [],
   "source": [
    "# Import linkage and denrogram libraries\n",
    "from scipy.cluster.hierarchy import linkage, dendrogram\n",
    "import matplotlib.pyplot as plt"
   ]
  },
  {
   "cell_type": "code",
   "execution_count": 65,
   "metadata": {},
   "outputs": [],
   "source": [
    "mergings = linkage(vgsales_numeric, method='complete')"
   ]
  },
  {
   "cell_type": "code",
   "execution_count": 67,
   "metadata": {},
   "outputs": [
    {
     "data": {
      "image/png": "[encoded data removed]",
      "text/plain": [
       "<Figure size 1080x720 with 1 Axes>"
      ]
     },
     "metadata": {
      "needs_background": "light"
     },
     "output_type": "display_data"
    }
   ],
   "source": [
    "plt.figure(figsize=(15,10))\n",
    "dendrogram(mergings,\n",
    "           leaf_rotation=90,\n",
    "           leaf_font_size=6,\n",
    ")\n",
    "plt.show()"
   ]
  },
  {
   "cell_type": "markdown",
   "metadata": {},
   "source": [
    "### <a id=\"e2_ID\">5.2 K-means Clustering</a>"
   ]
  },
  {
   "cell_type": "markdown",
   "metadata": {},
   "source": [
    "K-means clustering is an unsupervised machine learning algorithm used to classify data into clusters. Data points within a cluster are similar to each other and data points from separate clusters are different from each other."
   ]
  },
  {
   "cell_type": "code",
   "execution_count": 68,
   "metadata": {},
   "outputs": [],
   "source": [
    "# Import KMeans library\n",
    "from sklearn.cluster import KMeans"
   ]
  },
  {
   "cell_type": "code",
   "execution_count": 69,
   "metadata": {},
   "outputs": [],
   "source": [
    "# Instantiate KMeans object with n_clusters=2\n",
    "kmeansModel2 = KMeans(n_clusters=2, random_state=31)"
   ]
  },
  {
   "cell_type": "code",
   "execution_count": 70,
   "metadata": {},
   "outputs": [
    {
     "data": {
      "text/plain": [
       "KMeans(n_clusters=2, random_state=31)"
      ]
     },
     "execution_count": 70,
     "metadata": {},
     "output_type": "execute_result"
    }
   ],
   "source": [
    "# Fit dataset to KMeans object\n",
    "kmeansModel2.fit(vgsales_numeric)"
   ]
  },
  {
   "cell_type": "code",
   "execution_count": 71,
   "metadata": {},
   "outputs": [
    {
     "data": {
      "text/plain": [
       "array([[1.24587898e+04, 3.31840135e-02, 1.34882879e-02, 1.88613861e-02,\n",
       "        4.00024149e-03, 7.01557595e-02],\n",
       "       [4.15942148e+03, 4.95204425e-01, 2.79271284e-01, 1.36461039e-01,\n",
       "        9.19456469e-02, 1.00281506e+00]])"
      ]
     },
     "execution_count": 71,
     "metadata": {},
     "output_type": "execute_result"
    }
   ],
   "source": [
    "# Show cluster centers\n",
    "kmeansModel2.cluster_centers_"
   ]
  },
  {
   "cell_type": "code",
   "execution_count": 72,
   "metadata": {},
   "outputs": [
    {
     "data": {
      "text/plain": [
       "array([1, 1, 1, ..., 0, 0, 0])"
      ]
     },
     "execution_count": 72,
     "metadata": {},
     "output_type": "execute_result"
    }
   ],
   "source": [
    "# Show cluster labels\n",
    "kmeansModel2.labels_"
   ]
  },
  {
   "cell_type": "code",
   "execution_count": 73,
   "metadata": {},
   "outputs": [],
   "source": [
    "# Instantiate KMeans object with n_clusters=4\n",
    "kmeansModel4 = KMeans(n_clusters=4, random_state=32)"
   ]
  },
  {
   "cell_type": "code",
   "execution_count": 74,
   "metadata": {},
   "outputs": [
    {
     "data": {
      "text/plain": [
       "KMeans(n_clusters=4, random_state=32)"
      ]
     },
     "execution_count": 74,
     "metadata": {},
     "output_type": "execute_result"
    }
   ],
   "source": [
    "# Fit dataset to KMeans object\n",
    "kmeansModel4.fit(vgsales_numeric)"
   ]
  },
  {
   "cell_type": "code",
   "execution_count": 75,
   "metadata": {},
   "outputs": [
    {
     "data": {
      "text/plain": [
       "array([[2.05534104e+03, 8.48607595e-01, 4.96896300e-01, 2.20939630e-01,\n",
       "        1.61735638e-01, 1.72822055e+00],\n",
       "       [1.03880000e+04, 5.54499881e-02, 2.00931010e-02, 2.59823347e-02,\n",
       "        7.06373836e-03, 1.08708522e-01],\n",
       "       [6.20150000e+03, 1.50623805e-01, 6.70100382e-02, 5.40176864e-02,\n",
       "        2.38910134e-02, 2.95363289e-01],\n",
       "       [1.45415829e+04, 1.07796940e-02, 6.88365315e-03, 1.17925674e-02,\n",
       "        9.20573233e-04, 3.15108088e-02]])"
      ]
     },
     "execution_count": 75,
     "metadata": {},
     "output_type": "execute_result"
    }
   ],
   "source": [
    "# Show cluster centers\n",
    "kmeansModel4.cluster_centers_"
   ]
  },
  {
   "cell_type": "code",
   "execution_count": 76,
   "metadata": {},
   "outputs": [
    {
     "data": {
      "text/plain": [
       "array([0, 0, 0, ..., 3, 3, 3])"
      ]
     },
     "execution_count": 76,
     "metadata": {},
     "output_type": "execute_result"
    }
   ],
   "source": [
    "# Show cluster labels\n",
    "kmeansModel4.labels_"
   ]
  },
  {
   "cell_type": "code",
   "execution_count": 79,
   "metadata": {},
   "outputs": [
    {
     "data": {
      "image/png": "[encoded data removed]",
      "text/plain": [
       "<Figure size 1440x360 with 3 Axes>"
      ]
     },
     "metadata": {
      "needs_background": "light"
     },
     "output_type": "display_data"
    }
   ],
   "source": [
    "# Scatterplots of K-means with 2 clusters, 4 clusters, and by Class\n",
    "plt.figure(figsize=(20,5))\n",
    "plt.subplot(1, 3, 1)\n",
    "plt.scatter(vgsales_numeric.loc[:,'NA_Sales'], vgsales_numeric.loc[:,'EU_Sales'], c=kmeansModel2.labels_, \n",
    "            cmap='rainbow', alpha=0.2)\n",
    "plt.xlabel('NA Sales')\n",
    "plt.ylabel('EU Sales')\n",
    "plt.title(' 2 Clusters Identified with K Means')\n",
    "\n",
    "plt.subplot(1, 3, 2)\n",
    "plt.scatter(vgsales_numeric.loc[:,'NA_Sales'], vgsales_numeric.loc[:,'EU_Sales'], c=kmeansModel4.labels_, \n",
    "            cmap='rainbow', alpha=0.2)\n",
    "plt.xlabel('NA Sales')\n",
    "plt.ylabel('EU Sales')\n",
    "plt.title('4 Clusters Identified with K Means')\n",
    "\n",
    "plt.subplot(1, 3, 3)\n",
    "plt.scatter(vgsales.loc[:,'NA_Sales'], vgsales.loc[:,'EU_Sales'], c=vgsales.loc[:,'Year'], \n",
    "            label=vgsales.loc[:,'Year'].unique(), cmap='rainbow', alpha=0.2)\n",
    "plt.xlabel('NA Sales')\n",
    "plt.ylabel('EU Sales')\n",
    "plt.title('Clusters Identified By Year')\n",
    "\n",
    "plt.show()"
   ]
  },
  {
   "cell_type": "markdown",
   "metadata": {},
   "source": [
    "From the figures above, we can see that there are two clusters for North American Sales vs European Sales. When clusters were identified by Year, the clusters seem to be more scattered indicating there is no clear pattern between North American and European Sales by Year."
   ]
  }
 ],
 "metadata": {
  "kernelspec": {
   "display_name": "Python 3",
   "language": "python",
   "name": "python3"
  },
  "language_info": {
   "codemirror_mode": {
    "name": "ipython",
    "version": 3
   },
   "file_extension": ".py",
   "mimetype": "text/x-python",
   "name": "python",
   "nbconvert_exporter": "python",
   "pygments_lexer": "ipython3",
   "version": "3.7.3"
  }
 },
 "nbformat": 4,
 "nbformat_minor": 4
}
