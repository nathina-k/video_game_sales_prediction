{
 "cells": [
  {
   "cell_type": "markdown",
   "metadata": {},
   "source": [
    "# <font color='blue'>Video Game Sales Prediction 1980 - 2020</font>"
   ]
  },
  {
   "cell_type": "markdown",
   "metadata": {},
   "source": [
    "## Table of Contents\n",
    "9. [Regression Models](#i_ID)\n",
    "\n",
    "    9.1 [Multilinear Regression](#i1_ID)\n",
    "    \n",
    "    9.2 [KNN Regression](#i2_ID)\n",
    "    \n",
    "    9.3 [SVM Regression](#i3_ID)"
   ]
  },
  {
   "cell_type": "markdown",
   "metadata": {},
   "source": [
    "## <a id=\"i_ID\">9. Regression Models</a>"
   ]
  },
  {
   "cell_type": "markdown",
   "metadata": {},
   "source": [
    "The three regression models are Multilinear regression, KNN regression, SVM regression, without RFE or PCA, with RFE, and with PCA. A total of 9 models are evaluated."
   ]
  },
  {
   "cell_type": "code",
   "execution_count": 145,
   "metadata": {},
   "outputs": [
    {
     "data": {
      "text/html": [
       "<div>\n",
       "<style scoped>\n",
       "    .dataframe tbody tr th:only-of-type {\n",
       "        vertical-align: middle;\n",
       "    }\n",
       "\n",
       "    .dataframe tbody tr th {\n",
       "        vertical-align: top;\n",
       "    }\n",
       "\n",
       "    .dataframe thead th {\n",
       "        text-align: right;\n",
       "    }\n",
       "</style>\n",
       "<table border=\"1\" class=\"dataframe\">\n",
       "  <thead>\n",
       "    <tr style=\"text-align: right;\">\n",
       "      <th></th>\n",
       "      <th>Rank</th>\n",
       "      <th>Year</th>\n",
       "      <th>Publisher</th>\n",
       "      <th>EU_Sales</th>\n",
       "      <th>JP_Sales</th>\n",
       "      <th>Other_Sales</th>\n",
       "    </tr>\n",
       "  </thead>\n",
       "  <tbody>\n",
       "    <tr>\n",
       "      <th>0</th>\n",
       "      <td>0.953415</td>\n",
       "      <td>0.114608</td>\n",
       "      <td>-0.284853</td>\n",
       "      <td>-0.298086</td>\n",
       "      <td>-0.249154</td>\n",
       "      <td>-0.270455</td>\n",
       "    </tr>\n",
       "    <tr>\n",
       "      <th>1</th>\n",
       "      <td>0.871589</td>\n",
       "      <td>0.099204</td>\n",
       "      <td>1.310595</td>\n",
       "      <td>-0.298086</td>\n",
       "      <td>-0.249154</td>\n",
       "      <td>-0.270455</td>\n",
       "    </tr>\n",
       "    <tr>\n",
       "      <th>2</th>\n",
       "      <td>0.141402</td>\n",
       "      <td>0.114608</td>\n",
       "      <td>-0.093849</td>\n",
       "      <td>-0.320493</td>\n",
       "      <td>0.194243</td>\n",
       "      <td>-0.270455</td>\n",
       "    </tr>\n",
       "    <tr>\n",
       "      <th>3</th>\n",
       "      <td>0.353983</td>\n",
       "      <td>0.153119</td>\n",
       "      <td>0.973529</td>\n",
       "      <td>-0.320493</td>\n",
       "      <td>0.099230</td>\n",
       "      <td>-0.270455</td>\n",
       "    </tr>\n",
       "    <tr>\n",
       "      <th>4</th>\n",
       "      <td>0.286107</td>\n",
       "      <td>0.141566</td>\n",
       "      <td>-1.071341</td>\n",
       "      <td>-0.320493</td>\n",
       "      <td>-0.249154</td>\n",
       "      <td>-0.213332</td>\n",
       "    </tr>\n",
       "    <tr>\n",
       "      <th>...</th>\n",
       "      <td>...</td>\n",
       "      <td>...</td>\n",
       "      <td>...</td>\n",
       "      <td>...</td>\n",
       "      <td>...</td>\n",
       "      <td>...</td>\n",
       "    </tr>\n",
       "    <tr>\n",
       "      <th>12443</th>\n",
       "      <td>0.616534</td>\n",
       "      <td>0.141566</td>\n",
       "      <td>0.956675</td>\n",
       "      <td>-0.320493</td>\n",
       "      <td>-0.249154</td>\n",
       "      <td>-0.213332</td>\n",
       "    </tr>\n",
       "    <tr>\n",
       "      <th>12444</th>\n",
       "      <td>0.758115</td>\n",
       "      <td>0.137715</td>\n",
       "      <td>-0.093849</td>\n",
       "      <td>-0.253274</td>\n",
       "      <td>-0.249154</td>\n",
       "      <td>-0.213332</td>\n",
       "    </tr>\n",
       "    <tr>\n",
       "      <th>12445</th>\n",
       "      <td>-0.610647</td>\n",
       "      <td>0.149268</td>\n",
       "      <td>1.310595</td>\n",
       "      <td>0.060411</td>\n",
       "      <td>-0.249154</td>\n",
       "      <td>-0.041961</td>\n",
       "    </tr>\n",
       "    <tr>\n",
       "      <th>12446</th>\n",
       "      <td>-1.553831</td>\n",
       "      <td>0.114608</td>\n",
       "      <td>1.333066</td>\n",
       "      <td>1.808084</td>\n",
       "      <td>-0.249154</td>\n",
       "      <td>1.329001</td>\n",
       "    </tr>\n",
       "    <tr>\n",
       "      <th>12447</th>\n",
       "      <td>1.555970</td>\n",
       "      <td>0.130013</td>\n",
       "      <td>1.310595</td>\n",
       "      <td>-0.298086</td>\n",
       "      <td>-0.249154</td>\n",
       "      <td>-0.270455</td>\n",
       "    </tr>\n",
       "  </tbody>\n",
       "</table>\n",
       "<p>12448 rows × 6 columns</p>\n",
       "</div>"
      ],
      "text/plain": [
       "           Rank      Year  Publisher  EU_Sales  JP_Sales  Other_Sales\n",
       "0      0.953415  0.114608  -0.284853 -0.298086 -0.249154    -0.270455\n",
       "1      0.871589  0.099204   1.310595 -0.298086 -0.249154    -0.270455\n",
       "2      0.141402  0.114608  -0.093849 -0.320493  0.194243    -0.270455\n",
       "3      0.353983  0.153119   0.973529 -0.320493  0.099230    -0.270455\n",
       "4      0.286107  0.141566  -1.071341 -0.320493 -0.249154    -0.213332\n",
       "...         ...       ...        ...       ...       ...          ...\n",
       "12443  0.616534  0.141566   0.956675 -0.320493 -0.249154    -0.213332\n",
       "12444  0.758115  0.137715  -0.093849 -0.253274 -0.249154    -0.213332\n",
       "12445 -0.610647  0.149268   1.310595  0.060411 -0.249154    -0.041961\n",
       "12446 -1.553831  0.114608   1.333066  1.808084 -0.249154     1.329001\n",
       "12447  1.555970  0.130013   1.310595 -0.298086 -0.249154    -0.270455\n",
       "\n",
       "[12448 rows x 6 columns]"
      ]
     },
     "execution_count": 145,
     "metadata": {},
     "output_type": "execute_result"
    }
   ],
   "source": [
    "# Subset X train dataframe with selected features\n",
    "X_train_rfe = df[['Rank', 'Year', 'Publisher', 'EU_Sales', 'JP_Sales', 'Other_Sales']]\n",
    "X_train_rfe"
   ]
  },
  {
   "cell_type": "code",
   "execution_count": 148,
   "metadata": {},
   "outputs": [
    {
     "data": {
      "text/html": [
       "<div>\n",
       "<style scoped>\n",
       "    .dataframe tbody tr th:only-of-type {\n",
       "        vertical-align: middle;\n",
       "    }\n",
       "\n",
       "    .dataframe tbody tr th {\n",
       "        vertical-align: top;\n",
       "    }\n",
       "\n",
       "    .dataframe thead th {\n",
       "        text-align: right;\n",
       "    }\n",
       "</style>\n",
       "<table border=\"1\" class=\"dataframe\">\n",
       "  <thead>\n",
       "    <tr style=\"text-align: right;\">\n",
       "      <th></th>\n",
       "      <th>Rank</th>\n",
       "      <th>Name</th>\n",
       "      <th>Platform</th>\n",
       "      <th>Year</th>\n",
       "      <th>Genre</th>\n",
       "      <th>Publisher</th>\n",
       "      <th>EU_Sales</th>\n",
       "      <th>JP_Sales</th>\n",
       "      <th>Other_Sales</th>\n",
       "    </tr>\n",
       "  </thead>\n",
       "  <tbody>\n",
       "    <tr>\n",
       "      <th>0</th>\n",
       "      <td>0.125995</td>\n",
       "      <td>-0.864663</td>\n",
       "      <td>-0.332793</td>\n",
       "      <td>0.153119</td>\n",
       "      <td>0.287471</td>\n",
       "      <td>-1.127519</td>\n",
       "      <td>-0.074026</td>\n",
       "      <td>-0.249154</td>\n",
       "      <td>-0.099085</td>\n",
       "    </tr>\n",
       "    <tr>\n",
       "      <th>1</th>\n",
       "      <td>-0.735780</td>\n",
       "      <td>1.404745</td>\n",
       "      <td>0.145582</td>\n",
       "      <td>0.133864</td>\n",
       "      <td>-1.310759</td>\n",
       "      <td>-1.520763</td>\n",
       "      <td>-0.230868</td>\n",
       "      <td>-0.217483</td>\n",
       "      <td>-0.041961</td>\n",
       "    </tr>\n",
       "    <tr>\n",
       "      <th>2</th>\n",
       "      <td>1.492883</td>\n",
       "      <td>-1.262109</td>\n",
       "      <td>-0.332793</td>\n",
       "      <td>0.118459</td>\n",
       "      <td>1.619329</td>\n",
       "      <td>-0.869102</td>\n",
       "      <td>-0.275680</td>\n",
       "      <td>-0.249154</td>\n",
       "      <td>-0.270455</td>\n",
       "    </tr>\n",
       "    <tr>\n",
       "      <th>3</th>\n",
       "      <td>1.341932</td>\n",
       "      <td>1.283470</td>\n",
       "      <td>-0.332793</td>\n",
       "      <td>0.133864</td>\n",
       "      <td>1.086586</td>\n",
       "      <td>-0.863484</td>\n",
       "      <td>-0.298086</td>\n",
       "      <td>-0.249154</td>\n",
       "      <td>-0.270455</td>\n",
       "    </tr>\n",
       "    <tr>\n",
       "      <th>4</th>\n",
       "      <td>-0.647916</td>\n",
       "      <td>-0.595696</td>\n",
       "      <td>0.145582</td>\n",
       "      <td>0.141566</td>\n",
       "      <td>-0.511644</td>\n",
       "      <td>-1.520763</td>\n",
       "      <td>-0.074026</td>\n",
       "      <td>-0.249154</td>\n",
       "      <td>0.015162</td>\n",
       "    </tr>\n",
       "    <tr>\n",
       "      <th>...</th>\n",
       "      <td>...</td>\n",
       "      <td>...</td>\n",
       "      <td>...</td>\n",
       "      <td>...</td>\n",
       "      <td>...</td>\n",
       "      <td>...</td>\n",
       "      <td>...</td>\n",
       "      <td>...</td>\n",
       "      <td>...</td>\n",
       "    </tr>\n",
       "    <tr>\n",
       "      <th>4145</th>\n",
       "      <td>1.591157</td>\n",
       "      <td>-1.211378</td>\n",
       "      <td>-1.409135</td>\n",
       "      <td>0.153119</td>\n",
       "      <td>0.021099</td>\n",
       "      <td>-0.885955</td>\n",
       "      <td>-0.298086</td>\n",
       "      <td>-0.249154</td>\n",
       "      <td>-0.270455</td>\n",
       "    </tr>\n",
       "    <tr>\n",
       "      <th>4146</th>\n",
       "      <td>-0.868201</td>\n",
       "      <td>1.462681</td>\n",
       "      <td>1.461112</td>\n",
       "      <td>0.137715</td>\n",
       "      <td>0.820214</td>\n",
       "      <td>0.187040</td>\n",
       "      <td>0.060411</td>\n",
       "      <td>-0.217483</td>\n",
       "      <td>0.015162</td>\n",
       "    </tr>\n",
       "    <tr>\n",
       "      <th>4147</th>\n",
       "      <td>0.668169</td>\n",
       "      <td>1.605870</td>\n",
       "      <td>1.461112</td>\n",
       "      <td>0.133864</td>\n",
       "      <td>-0.511644</td>\n",
       "      <td>-1.520763</td>\n",
       "      <td>-0.298086</td>\n",
       "      <td>-0.249154</td>\n",
       "      <td>-0.213332</td>\n",
       "    </tr>\n",
       "    <tr>\n",
       "      <th>4148</th>\n",
       "      <td>-0.635424</td>\n",
       "      <td>1.038518</td>\n",
       "      <td>0.025988</td>\n",
       "      <td>0.130013</td>\n",
       "      <td>0.553843</td>\n",
       "      <td>-0.093849</td>\n",
       "      <td>-0.186056</td>\n",
       "      <td>0.352600</td>\n",
       "      <td>-0.156208</td>\n",
       "    </tr>\n",
       "    <tr>\n",
       "      <th>4149</th>\n",
       "      <td>0.772065</td>\n",
       "      <td>-0.393370</td>\n",
       "      <td>-1.409135</td>\n",
       "      <td>0.137715</td>\n",
       "      <td>-1.044388</td>\n",
       "      <td>1.310595</td>\n",
       "      <td>-0.320493</td>\n",
       "      <td>-0.249154</td>\n",
       "      <td>-0.270455</td>\n",
       "    </tr>\n",
       "  </tbody>\n",
       "</table>\n",
       "<p>4150 rows × 9 columns</p>\n",
       "</div>"
      ],
      "text/plain": [
       "          Rank      Name  Platform      Year     Genre  Publisher  EU_Sales  \\\n",
       "0     0.125995 -0.864663 -0.332793  0.153119  0.287471  -1.127519 -0.074026   \n",
       "1    -0.735780  1.404745  0.145582  0.133864 -1.310759  -1.520763 -0.230868   \n",
       "2     1.492883 -1.262109 -0.332793  0.118459  1.619329  -0.869102 -0.275680   \n",
       "3     1.341932  1.283470 -0.332793  0.133864  1.086586  -0.863484 -0.298086   \n",
       "4    -0.647916 -0.595696  0.145582  0.141566 -0.511644  -1.520763 -0.074026   \n",
       "...        ...       ...       ...       ...       ...        ...       ...   \n",
       "4145  1.591157 -1.211378 -1.409135  0.153119  0.021099  -0.885955 -0.298086   \n",
       "4146 -0.868201  1.462681  1.461112  0.137715  0.820214   0.187040  0.060411   \n",
       "4147  0.668169  1.605870  1.461112  0.133864 -0.511644  -1.520763 -0.298086   \n",
       "4148 -0.635424  1.038518  0.025988  0.130013  0.553843  -0.093849 -0.186056   \n",
       "4149  0.772065 -0.393370 -1.409135  0.137715 -1.044388   1.310595 -0.320493   \n",
       "\n",
       "      JP_Sales  Other_Sales  \n",
       "0    -0.249154    -0.099085  \n",
       "1    -0.217483    -0.041961  \n",
       "2    -0.249154    -0.270455  \n",
       "3    -0.249154    -0.270455  \n",
       "4    -0.249154     0.015162  \n",
       "...        ...          ...  \n",
       "4145 -0.249154    -0.270455  \n",
       "4146 -0.217483     0.015162  \n",
       "4147 -0.249154    -0.213332  \n",
       "4148  0.352600    -0.156208  \n",
       "4149 -0.249154    -0.270455  \n",
       "\n",
       "[4150 rows x 9 columns]"
      ]
     },
     "execution_count": 148,
     "metadata": {},
     "output_type": "execute_result"
    }
   ],
   "source": [
    "# X test dataframe with selected features\n",
    "df_2 = pd.DataFrame(X_test_sc, columns = [\"Rank\", \"Name\", \"Platform\", \"Year\", \"Genre\", \"Publisher\", \"EU_Sales\", \"JP_Sales\", \"Other_Sales\"])\n",
    "df_2"
   ]
  },
  {
   "cell_type": "code",
   "execution_count": 149,
   "metadata": {},
   "outputs": [
    {
     "data": {
      "text/html": [
       "<div>\n",
       "<style scoped>\n",
       "    .dataframe tbody tr th:only-of-type {\n",
       "        vertical-align: middle;\n",
       "    }\n",
       "\n",
       "    .dataframe tbody tr th {\n",
       "        vertical-align: top;\n",
       "    }\n",
       "\n",
       "    .dataframe thead th {\n",
       "        text-align: right;\n",
       "    }\n",
       "</style>\n",
       "<table border=\"1\" class=\"dataframe\">\n",
       "  <thead>\n",
       "    <tr style=\"text-align: right;\">\n",
       "      <th></th>\n",
       "      <th>Rank</th>\n",
       "      <th>Year</th>\n",
       "      <th>Publisher</th>\n",
       "      <th>EU_Sales</th>\n",
       "      <th>JP_Sales</th>\n",
       "      <th>Other_Sales</th>\n",
       "    </tr>\n",
       "  </thead>\n",
       "  <tbody>\n",
       "    <tr>\n",
       "      <th>0</th>\n",
       "      <td>0.125995</td>\n",
       "      <td>0.153119</td>\n",
       "      <td>-1.127519</td>\n",
       "      <td>-0.074026</td>\n",
       "      <td>-0.249154</td>\n",
       "      <td>-0.099085</td>\n",
       "    </tr>\n",
       "    <tr>\n",
       "      <th>1</th>\n",
       "      <td>-0.735780</td>\n",
       "      <td>0.133864</td>\n",
       "      <td>-1.520763</td>\n",
       "      <td>-0.230868</td>\n",
       "      <td>-0.217483</td>\n",
       "      <td>-0.041961</td>\n",
       "    </tr>\n",
       "    <tr>\n",
       "      <th>2</th>\n",
       "      <td>1.492883</td>\n",
       "      <td>0.118459</td>\n",
       "      <td>-0.869102</td>\n",
       "      <td>-0.275680</td>\n",
       "      <td>-0.249154</td>\n",
       "      <td>-0.270455</td>\n",
       "    </tr>\n",
       "    <tr>\n",
       "      <th>3</th>\n",
       "      <td>1.341932</td>\n",
       "      <td>0.133864</td>\n",
       "      <td>-0.863484</td>\n",
       "      <td>-0.298086</td>\n",
       "      <td>-0.249154</td>\n",
       "      <td>-0.270455</td>\n",
       "    </tr>\n",
       "    <tr>\n",
       "      <th>4</th>\n",
       "      <td>-0.647916</td>\n",
       "      <td>0.141566</td>\n",
       "      <td>-1.520763</td>\n",
       "      <td>-0.074026</td>\n",
       "      <td>-0.249154</td>\n",
       "      <td>0.015162</td>\n",
       "    </tr>\n",
       "    <tr>\n",
       "      <th>...</th>\n",
       "      <td>...</td>\n",
       "      <td>...</td>\n",
       "      <td>...</td>\n",
       "      <td>...</td>\n",
       "      <td>...</td>\n",
       "      <td>...</td>\n",
       "    </tr>\n",
       "    <tr>\n",
       "      <th>4145</th>\n",
       "      <td>1.591157</td>\n",
       "      <td>0.153119</td>\n",
       "      <td>-0.885955</td>\n",
       "      <td>-0.298086</td>\n",
       "      <td>-0.249154</td>\n",
       "      <td>-0.270455</td>\n",
       "    </tr>\n",
       "    <tr>\n",
       "      <th>4146</th>\n",
       "      <td>-0.868201</td>\n",
       "      <td>0.137715</td>\n",
       "      <td>0.187040</td>\n",
       "      <td>0.060411</td>\n",
       "      <td>-0.217483</td>\n",
       "      <td>0.015162</td>\n",
       "    </tr>\n",
       "    <tr>\n",
       "      <th>4147</th>\n",
       "      <td>0.668169</td>\n",
       "      <td>0.133864</td>\n",
       "      <td>-1.520763</td>\n",
       "      <td>-0.298086</td>\n",
       "      <td>-0.249154</td>\n",
       "      <td>-0.213332</td>\n",
       "    </tr>\n",
       "    <tr>\n",
       "      <th>4148</th>\n",
       "      <td>-0.635424</td>\n",
       "      <td>0.130013</td>\n",
       "      <td>-0.093849</td>\n",
       "      <td>-0.186056</td>\n",
       "      <td>0.352600</td>\n",
       "      <td>-0.156208</td>\n",
       "    </tr>\n",
       "    <tr>\n",
       "      <th>4149</th>\n",
       "      <td>0.772065</td>\n",
       "      <td>0.137715</td>\n",
       "      <td>1.310595</td>\n",
       "      <td>-0.320493</td>\n",
       "      <td>-0.249154</td>\n",
       "      <td>-0.270455</td>\n",
       "    </tr>\n",
       "  </tbody>\n",
       "</table>\n",
       "<p>4150 rows × 6 columns</p>\n",
       "</div>"
      ],
      "text/plain": [
       "          Rank      Year  Publisher  EU_Sales  JP_Sales  Other_Sales\n",
       "0     0.125995  0.153119  -1.127519 -0.074026 -0.249154    -0.099085\n",
       "1    -0.735780  0.133864  -1.520763 -0.230868 -0.217483    -0.041961\n",
       "2     1.492883  0.118459  -0.869102 -0.275680 -0.249154    -0.270455\n",
       "3     1.341932  0.133864  -0.863484 -0.298086 -0.249154    -0.270455\n",
       "4    -0.647916  0.141566  -1.520763 -0.074026 -0.249154     0.015162\n",
       "...        ...       ...        ...       ...       ...          ...\n",
       "4145  1.591157  0.153119  -0.885955 -0.298086 -0.249154    -0.270455\n",
       "4146 -0.868201  0.137715   0.187040  0.060411 -0.217483     0.015162\n",
       "4147  0.668169  0.133864  -1.520763 -0.298086 -0.249154    -0.213332\n",
       "4148 -0.635424  0.130013  -0.093849 -0.186056  0.352600    -0.156208\n",
       "4149  0.772065  0.137715   1.310595 -0.320493 -0.249154    -0.270455\n",
       "\n",
       "[4150 rows x 6 columns]"
      ]
     },
     "execution_count": 149,
     "metadata": {},
     "output_type": "execute_result"
    }
   ],
   "source": [
    "# Subset X test dataframe with selected features\n",
    "X_test_rfe = df_2[['Rank', 'Year', 'Publisher', 'EU_Sales', 'JP_Sales', 'Other_Sales']]\n",
    "X_test_rfe"
   ]
  },
  {
   "cell_type": "code",
   "execution_count": 153,
   "metadata": {},
   "outputs": [
    {
     "name": "stdout",
     "output_type": "stream",
     "text": [
      "(12448, 9)\n",
      "(12448, 1)\n",
      "(4150, 9)\n",
      "(4150,)\n",
      "(12448, 6)\n",
      "(12448, 1)\n",
      "(4150, 6)\n",
      "(4150,)\n",
      "(12448, 2)\n",
      "(12448, 1)\n",
      "(4150, 6)\n",
      "(4150,)\n"
     ]
    }
   ],
   "source": [
    "# Without RFE or PCA\n",
    "print(df.shape) # X train set\n",
    "print(y_train_sc.shape) # y train set\n",
    "print(df_2.shape) # X test set\n",
    "print(y_test.shape) # y test set\n",
    "\n",
    "# With RFE\n",
    "print(X_train_rfe.shape) # X train set\n",
    "print(y_train_sc.shape) # y train set\n",
    "print(X_test_rfe.shape) # X test set\n",
    "print(y_test.shape) # y tset set\n",
    "\n",
    "# With PCA\n",
    "print(X_train_pca_6.shape) # X train set\n",
    "print(y_train_sc.shape) # y train set\n",
    "print(X_test_pca_6.shape) # X test set\n",
    "print(y_test.shape) # y test set"
   ]
  },
  {
   "cell_type": "markdown",
   "metadata": {},
   "source": [
    "### <a id=\"i1_ID\">9.1 Multilinear Regression</a>"
   ]
  },
  {
   "cell_type": "markdown",
   "metadata": {},
   "source": [
    "### Without RFE or PCA"
   ]
  },
  {
   "cell_type": "code",
   "execution_count": 167,
   "metadata": {},
   "outputs": [],
   "source": [
    "from sklearn import linear_model\n",
    "from sklearn.model_selection import cross_val_score\n",
    "from sklearn import metrics"
   ]
  },
  {
   "cell_type": "code",
   "execution_count": 155,
   "metadata": {},
   "outputs": [],
   "source": [
    "# Instantiate linear regression\n",
    "linear_regr = linear_model.LinearRegression()"
   ]
  },
  {
   "cell_type": "code",
   "execution_count": 156,
   "metadata": {},
   "outputs": [
    {
     "data": {
      "text/plain": [
       "LinearRegression()"
      ]
     },
     "execution_count": 156,
     "metadata": {},
     "output_type": "execute_result"
    }
   ],
   "source": [
    "# Fit the model\n",
    "linear_regr.fit(df, y_train_sc)"
   ]
  },
  {
   "cell_type": "code",
   "execution_count": 157,
   "metadata": {},
   "outputs": [
    {
     "data": {
      "text/plain": [
       "0.5561104755797802"
      ]
     },
     "execution_count": 157,
     "metadata": {},
     "output_type": "execute_result"
    }
   ],
   "source": [
    "# R-squared score\n",
    "linear_regr.score(df, y_train_sc)"
   ]
  },
  {
   "cell_type": "code",
   "execution_count": 158,
   "metadata": {},
   "outputs": [
    {
     "name": "stdout",
     "output_type": "stream",
     "text": [
      "0.6098907041490317\n"
     ]
    }
   ],
   "source": [
    "# R-squared score\n",
    "print(cross_val_score(linear_regr, df, y_train_sc, cv=10, scoring='r2').mean())"
   ]
  },
  {
   "cell_type": "code",
   "execution_count": 159,
   "metadata": {},
   "outputs": [
    {
     "name": "stdout",
     "output_type": "stream",
     "text": [
      "0.2262212106888199\n"
     ]
    }
   ],
   "source": [
    "# Mean Absolute Error\n",
    "print(-cross_val_score(linear_regr, df, y_train_sc, cv=10, scoring='neg_mean_absolute_error').mean())"
   ]
  },
  {
   "cell_type": "code",
   "execution_count": 160,
   "metadata": {},
   "outputs": [
    {
     "name": "stdout",
     "output_type": "stream",
     "text": [
      "0.4560265126263488\n"
     ]
    }
   ],
   "source": [
    "# Mean Squared Error\n",
    "print(-cross_val_score(linear_regr, df, y_train_sc, cv=10, scoring='neg_mean_squared_error').mean())"
   ]
  },
  {
   "cell_type": "code",
   "execution_count": 161,
   "metadata": {},
   "outputs": [
    {
     "name": "stdout",
     "output_type": "stream",
     "text": [
      "0.6151532978431982\n"
     ]
    }
   ],
   "source": [
    "# Root Mean Squared Error\n",
    "print(np.sqrt(-cross_val_score(linear_regr, df, y_train_sc, cv=10, scoring='neg_mean_squared_error')).mean())"
   ]
  },
  {
   "cell_type": "code",
   "execution_count": 162,
   "metadata": {},
   "outputs": [
    {
     "name": "stdout",
     "output_type": "stream",
     "text": [
      "The coefficients are: \n",
      " [[-0.12582786  0.00398569  0.00702242 -0.01013102 -0.0042474  -0.01593112\n",
      "   0.45618124  0.19032903  0.16141701]]\n",
      "The y-intercept is: \n",
      " [4.53326291e-17]\n"
     ]
    }
   ],
   "source": [
    "print('The coefficients are: \\n', linear_regr.coef_)\n",
    "print('The y-intercept is: \\n', linear_regr.intercept_)"
   ]
  },
  {
   "cell_type": "code",
   "execution_count": 164,
   "metadata": {},
   "outputs": [
    {
     "name": "stdout",
     "output_type": "stream",
     "text": [
      "Rank, Year, Publisher, EU_Sales, JP_Sales, Other_Sales coefficients are: \n",
      " [[-0.12582786  0.00398569  0.00702242 -0.01013102 -0.0042474  -0.01593112\n",
      "   0.45618124  0.19032903  0.16141701]]\n"
     ]
    }
   ],
   "source": [
    "print('Rank, Year, Publisher, EU_Sales, JP_Sales, Other_Sales coefficients are: \\n', linear_regr.coef_)"
   ]
  },
  {
   "cell_type": "code",
   "execution_count": 165,
   "metadata": {},
   "outputs": [
    {
     "data": {
      "text/plain": [
       "array([[ 0.18296512],\n",
       "       [ 0.24267084],\n",
       "       [-0.04933401],\n",
       "       ...,\n",
       "       [ 0.06278617],\n",
       "       [ 0.29253371],\n",
       "       [-0.01667176]])"
      ]
     },
     "execution_count": 165,
     "metadata": {},
     "output_type": "execute_result"
    }
   ],
   "source": [
    "# Make predictions on test set\n",
    "y_linpred_sc = linear_regr.predict(df_2)\n",
    "y_linpred = sc_y.inverse_transform(y_linpred_sc)\n",
    "y_linpred"
   ]
  },
  {
   "cell_type": "code",
   "execution_count": 168,
   "metadata": {},
   "outputs": [
    {
     "name": "stdout",
     "output_type": "stream",
     "text": [
      "MAE for linear regression was: 0.18\n"
     ]
    }
   ],
   "source": [
    "# Mean Absolute Error\n",
    "print(\"MAE for linear regression was: %.2f\" % metrics.mean_absolute_error(y_test, y_linpred))"
   ]
  },
  {
   "cell_type": "code",
   "execution_count": 169,
   "metadata": {},
   "outputs": [
    {
     "name": "stdout",
     "output_type": "stream",
     "text": [
      "MSE for linear regression was: 0.21\n"
     ]
    }
   ],
   "source": [
    "# Mean Squared Error\n",
    "print(\"MSE for linear regression was: %.2f\" % metrics.mean_squared_error(y_test, y_linpred))"
   ]
  },
  {
   "cell_type": "code",
   "execution_count": 170,
   "metadata": {},
   "outputs": [
    {
     "name": "stdout",
     "output_type": "stream",
     "text": [
      "RMSE was 0.4635384014523453\n"
     ]
    }
   ],
   "source": [
    "# Root Mean Squared Error\n",
    "print(\"RMSE was\", np.sqrt(metrics.mean_squared_error(y_test, y_linpred)))"
   ]
  },
  {
   "cell_type": "code",
   "execution_count": 171,
   "metadata": {},
   "outputs": [
    {
     "name": "stdout",
     "output_type": "stream",
     "text": [
      "Variance score (R2) for linear regression was: 0.76\n"
     ]
    }
   ],
   "source": [
    "# R-squared\n",
    "print('Variance score (R2) for linear regression was: %.2f' % metrics.r2_score(y_test, y_linpred))"
   ]
  },
  {
   "cell_type": "code",
   "execution_count": 172,
   "metadata": {},
   "outputs": [
    {
     "data": {
      "image/png": "[encoded data removed]",
      "text/plain": [
       "<Figure size 720x432 with 1 Axes>"
      ]
     },
     "metadata": {
      "needs_background": "light"
     },
     "output_type": "display_data"
    }
   ],
   "source": [
    "# Plot Comparing Actual and Predicted Values using Linear Regression Model\n",
    "plt.figure(figsize=(10, 6))\n",
    "plt.plot(y_linpred, label='Predicted')\n",
    "plt.plot(y_test, label='Actual', alpha=0.7, linestyle=':')\n",
    "plt.ylabel('New Cases')\n",
    "plt.xlabel('Observation Number')\n",
    "plt.title('Comparing Actual and Predicted Values using Linear Regression Model')\n",
    "plt.legend()\n",
    "plt.show()"
   ]
  },
  {
   "cell_type": "markdown",
   "metadata": {},
   "source": [
    "### With RFE"
   ]
  },
  {
   "cell_type": "code",
   "execution_count": 173,
   "metadata": {},
   "outputs": [],
   "source": [
    "# Instantiate linear regression\n",
    "linear_regr_rfe = linear_model.LinearRegression()"
   ]
  },
  {
   "cell_type": "code",
   "execution_count": 174,
   "metadata": {},
   "outputs": [
    {
     "data": {
      "text/plain": [
       "LinearRegression()"
      ]
     },
     "execution_count": 174,
     "metadata": {},
     "output_type": "execute_result"
    }
   ],
   "source": [
    "# Fit the model\n",
    "linear_regr_rfe.fit(X_train_rfe, y_train_sc)"
   ]
  },
  {
   "cell_type": "code",
   "execution_count": 175,
   "metadata": {},
   "outputs": [
    {
     "data": {
      "text/plain": [
       "0.5560287246050264"
      ]
     },
     "execution_count": 175,
     "metadata": {},
     "output_type": "execute_result"
    }
   ],
   "source": [
    "# R-squared score\n",
    "linear_regr_rfe.score(X_train_rfe, y_train_sc)"
   ]
  },
  {
   "cell_type": "code",
   "execution_count": 176,
   "metadata": {},
   "outputs": [
    {
     "name": "stdout",
     "output_type": "stream",
     "text": [
      "0.6099419885589499\n"
     ]
    }
   ],
   "source": [
    "# R-squared score\n",
    "print(cross_val_score(linear_regr_rfe, X_train_rfe, y_train_sc, cv=10, scoring='r2').mean())"
   ]
  },
  {
   "cell_type": "code",
   "execution_count": 177,
   "metadata": {},
   "outputs": [
    {
     "name": "stdout",
     "output_type": "stream",
     "text": [
      "0.2258374715345084\n"
     ]
    }
   ],
   "source": [
    "# Mean Absolute Error\n",
    "print(-cross_val_score(linear_regr_rfe, X_train_rfe, y_train_sc, cv=10, scoring='neg_mean_absolute_error').mean())"
   ]
  },
  {
   "cell_type": "code",
   "execution_count": 178,
   "metadata": {},
   "outputs": [
    {
     "name": "stdout",
     "output_type": "stream",
     "text": [
      "0.4559682946667091\n"
     ]
    }
   ],
   "source": [
    "# Mean Squared Error\n",
    "print(-cross_val_score(linear_regr_rfe, X_train_rfe, y_train_sc, cv=10, scoring='neg_mean_squared_error').mean())"
   ]
  },
  {
   "cell_type": "code",
   "execution_count": 179,
   "metadata": {},
   "outputs": [
    {
     "name": "stdout",
     "output_type": "stream",
     "text": [
      "0.6151257221341926\n"
     ]
    }
   ],
   "source": [
    "# Root Mean Squared Error\n",
    "print(np.sqrt(-cross_val_score(linear_regr_rfe, X_train_rfe, y_train_sc, cv=10, scoring='neg_mean_squared_error')).mean())"
   ]
  },
  {
   "cell_type": "code",
   "execution_count": 180,
   "metadata": {},
   "outputs": [
    {
     "name": "stdout",
     "output_type": "stream",
     "text": [
      "The coefficients are: \n",
      " [[-0.12633191 -0.01003464 -0.01567395  0.45662302  0.18937141  0.16150817]]\n",
      "The y-intercept is: \n",
      " [4.46308544e-17]\n"
     ]
    }
   ],
   "source": [
    "print('The coefficients are: \\n', linear_regr_rfe.coef_)\n",
    "print('The y-intercept is: \\n', linear_regr_rfe.intercept_)"
   ]
  },
  {
   "cell_type": "code",
   "execution_count": 181,
   "metadata": {},
   "outputs": [
    {
     "name": "stdout",
     "output_type": "stream",
     "text": [
      "Rank, Year, Publisher, EU_Sales, JP_Sales, Other_Sales coefficients are: \n",
      " [[-0.12633191 -0.01003464 -0.01567395  0.45662302  0.18937141  0.16150817]]\n"
     ]
    }
   ],
   "source": [
    "print('Rank, Year, Publisher, EU_Sales, JP_Sales, Other_Sales coefficients are: \\n', linear_regr_rfe.coef_)"
   ]
  },
  {
   "cell_type": "code",
   "execution_count": 182,
   "metadata": {},
   "outputs": [
    {
     "data": {
      "text/plain": [
       "array([[ 0.18823234],\n",
       "       [ 0.23338861],\n",
       "       [-0.03906972],\n",
       "       ...,\n",
       "       [ 0.04784844],\n",
       "       [ 0.29092591],\n",
       "       [-0.01125215]])"
      ]
     },
     "execution_count": 182,
     "metadata": {},
     "output_type": "execute_result"
    }
   ],
   "source": [
    "# Make predictions on test set\n",
    "y_linpred_rfe_sc = linear_regr_rfe.predict(X_test_rfe)\n",
    "y_linpred_rfe = sc_y.inverse_transform(y_linpred_rfe_sc)\n",
    "y_linpred_rfe"
   ]
  },
  {
   "cell_type": "code",
   "execution_count": 183,
   "metadata": {},
   "outputs": [
    {
     "name": "stdout",
     "output_type": "stream",
     "text": [
      "MAE for linear regression was: 0.18\n"
     ]
    }
   ],
   "source": [
    "# Mean Absolute Error\n",
    "print(\"MAE for linear regression was: %.2f\" % metrics.mean_absolute_error(y_test, y_linpred_rfe))"
   ]
  },
  {
   "cell_type": "code",
   "execution_count": 184,
   "metadata": {},
   "outputs": [
    {
     "name": "stdout",
     "output_type": "stream",
     "text": [
      "MSE for linear regression was: 0.22\n"
     ]
    }
   ],
   "source": [
    "# Mean Squared Error\n",
    "print(\"MSE for linear regression was: %.2f\" % metrics.mean_squared_error(y_test, y_linpred_rfe))"
   ]
  },
  {
   "cell_type": "code",
   "execution_count": 185,
   "metadata": {},
   "outputs": [
    {
     "name": "stdout",
     "output_type": "stream",
     "text": [
      "RMSE was 0.4637131811939537\n"
     ]
    }
   ],
   "source": [
    "# Root Mean Squared Error\n",
    "print(\"RMSE was\", np.sqrt(metrics.mean_squared_error(y_test, y_linpred_rfe)))"
   ]
  },
  {
   "cell_type": "code",
   "execution_count": 186,
   "metadata": {},
   "outputs": [
    {
     "name": "stdout",
     "output_type": "stream",
     "text": [
      "Variance score (R2) for linear regression was: 0.76\n"
     ]
    }
   ],
   "source": [
    "# R-squared\n",
    "print('Variance score (R2) for linear regression was: %.2f' % metrics.r2_score(y_test, y_linpred_rfe))"
   ]
  },
  {
   "cell_type": "code",
   "execution_count": 187,
   "metadata": {},
   "outputs": [
    {
     "data": {
      "image/png": "[encoded data removed]",
      "text/plain": [
       "<Figure size 720x432 with 1 Axes>"
      ]
     },
     "metadata": {
      "needs_background": "light"
     },
     "output_type": "display_data"
    }
   ],
   "source": [
    "# Plot Comparing Actual and Predicted Values using Linear Regression Model\n",
    "plt.figure(figsize=(10, 6))\n",
    "plt.plot(y_linpred_rfe, label='Predicted')\n",
    "plt.plot(y_test, label='Actual', alpha=0.7, linestyle=':')\n",
    "plt.ylabel('New Cases')\n",
    "plt.xlabel('Observation Number')\n",
    "plt.title('Comparing Actual and Predicted Values using Linear Regression Model')\n",
    "plt.legend()\n",
    "plt.show()"
   ]
  },
  {
   "cell_type": "markdown",
   "metadata": {},
   "source": [
    "### With PCA"
   ]
  },
  {
   "cell_type": "code",
   "execution_count": 202,
   "metadata": {},
   "outputs": [],
   "source": [
    "# Instantiate linear regression\n",
    "linear_regr_pca = linear_model.LinearRegression()"
   ]
  },
  {
   "cell_type": "code",
   "execution_count": 203,
   "metadata": {},
   "outputs": [
    {
     "data": {
      "text/plain": [
       "LinearRegression()"
      ]
     },
     "execution_count": 203,
     "metadata": {},
     "output_type": "execute_result"
    }
   ],
   "source": [
    "# Fit the model\n",
    "linear_regr_pca.fit(X_train_pca_6, y_train_sc)"
   ]
  },
  {
   "cell_type": "code",
   "execution_count": 204,
   "metadata": {},
   "outputs": [
    {
     "data": {
      "text/plain": [
       "0.5408273984297449"
      ]
     },
     "execution_count": 204,
     "metadata": {},
     "output_type": "execute_result"
    }
   ],
   "source": [
    "# R-squared score\n",
    "linear_regr_pca.score(X_train_pca_6, y_train_sc)"
   ]
  },
  {
   "cell_type": "code",
   "execution_count": 205,
   "metadata": {},
   "outputs": [
    {
     "name": "stdout",
     "output_type": "stream",
     "text": [
      "0.5963617760115933\n"
     ]
    }
   ],
   "source": [
    "# R-squared score\n",
    "print(cross_val_score(linear_regr_pca, X_train_pca_6, y_train_sc, cv=10, scoring='r2').mean())"
   ]
  },
  {
   "cell_type": "code",
   "execution_count": 206,
   "metadata": {},
   "outputs": [
    {
     "name": "stdout",
     "output_type": "stream",
     "text": [
      "0.25174973080450536\n"
     ]
    }
   ],
   "source": [
    "# Mean Absolute Error\n",
    "print(-cross_val_score(linear_regr_pca, X_train_pca_6, y_train_sc, cv=10, scoring='neg_mean_absolute_error').mean())"
   ]
  },
  {
   "cell_type": "code",
   "execution_count": 207,
   "metadata": {},
   "outputs": [
    {
     "name": "stdout",
     "output_type": "stream",
     "text": [
      "0.46312413495783356\n"
     ]
    }
   ],
   "source": [
    "# Mean Squared Error\n",
    "print(-cross_val_score(linear_regr_pca, X_train_pca_6, y_train_sc, cv=10, scoring='neg_mean_squared_error').mean())"
   ]
  },
  {
   "cell_type": "code",
   "execution_count": 208,
   "metadata": {},
   "outputs": [
    {
     "name": "stdout",
     "output_type": "stream",
     "text": [
      "0.6254912516082347\n"
     ]
    }
   ],
   "source": [
    "# Root Mean Squared Error\n",
    "print(np.sqrt(-cross_val_score(linear_regr_pca, X_train_pca_6, y_train_sc, cv=10, scoring='neg_mean_squared_error')).mean())"
   ]
  },
  {
   "cell_type": "code",
   "execution_count": 209,
   "metadata": {},
   "outputs": [
    {
     "name": "stdout",
     "output_type": "stream",
     "text": [
      "The coefficients are: \n",
      " [[4.87741524e-01 2.03959166e-02 2.72251994e-02 8.70021199e-03\n",
      "  3.43051118e-04 5.09342563e-02]]\n",
      "The y-intercept is: \n",
      " [-1.793875e-17]\n"
     ]
    }
   ],
   "source": [
    "print('The coefficients are: \\n', linear_regr_pca.coef_)\n",
    "print('The y-intercept is: \\n', linear_regr_pca.intercept_)"
   ]
  },
  {
   "cell_type": "code",
   "execution_count": 210,
   "metadata": {},
   "outputs": [
    {
     "name": "stdout",
     "output_type": "stream",
     "text": [
      "Rank, Year, Publisher, EU_Sales, JP_Sales, Other_Sales coefficients are: \n",
      " [[4.87741524e-01 2.03959166e-02 2.72251994e-02 8.70021199e-03\n",
      "  3.43051118e-04 5.09342563e-02]]\n"
     ]
    }
   ],
   "source": [
    "print('Rank, Year, Publisher, EU_Sales, JP_Sales, Other_Sales coefficients are: \\n', linear_regr_pca.coef_)"
   ]
  },
  {
   "cell_type": "code",
   "execution_count": 211,
   "metadata": {},
   "outputs": [
    {
     "name": "stdout",
     "output_type": "stream",
     "text": [
      "PC1 PC2 PC3 PC4 PC5 PC6 [[4.87741524e-01 2.03959166e-02 2.72251994e-02 8.70021199e-03\n",
      "  3.43051118e-04 5.09342563e-02]]\n"
     ]
    }
   ],
   "source": [
    "print('PC1', 'PC2','PC3', 'PC4', 'PC5', 'PC6', linear_regr_pca.coef_)"
   ]
  },
  {
   "cell_type": "code",
   "execution_count": 212,
   "metadata": {},
   "outputs": [
    {
     "data": {
      "text/plain": [
       "array([[ 0.17885212],\n",
       "       [ 0.32043548],\n",
       "       [-0.13439368],\n",
       "       ...,\n",
       "       [ 0.02684928],\n",
       "       [ 0.34369302],\n",
       "       [-0.02704719]])"
      ]
     },
     "execution_count": 212,
     "metadata": {},
     "output_type": "execute_result"
    }
   ],
   "source": [
    "# Making predictions on test set\n",
    "y_linpred_pca_sc = linear_regr_pca.predict(X_test_pca_6)\n",
    "y_linpred_pca = sc_y.inverse_transform(y_linpred_pca_sc)\n",
    "y_linpred_pca"
   ]
  },
  {
   "cell_type": "code",
   "execution_count": 213,
   "metadata": {},
   "outputs": [
    {
     "name": "stdout",
     "output_type": "stream",
     "text": [
      "MAE for linear regression was: 0.20\n"
     ]
    }
   ],
   "source": [
    "# Mean Absolute Error\n",
    "print(\"MAE for linear regression was: %.2f\" % metrics.mean_absolute_error(y_test, y_linpred_pca))"
   ]
  },
  {
   "cell_type": "code",
   "execution_count": 214,
   "metadata": {},
   "outputs": [
    {
     "name": "stdout",
     "output_type": "stream",
     "text": [
      "MSE for linear regression was: 0.26\n"
     ]
    }
   ],
   "source": [
    "# Mean Squared Error\n",
    "print(\"MSE for linear regression was: %.2f\" % metrics.mean_squared_error(y_test, y_linpred_pca))"
   ]
  },
  {
   "cell_type": "code",
   "execution_count": 215,
   "metadata": {},
   "outputs": [
    {
     "name": "stdout",
     "output_type": "stream",
     "text": [
      "RMSE was 0.5056014634664534\n"
     ]
    }
   ],
   "source": [
    "# Root Mean Squared Error\n",
    "print(\"RMSE was\", np.sqrt(metrics.mean_squared_error(y_test, y_linpred_pca)))"
   ]
  },
  {
   "cell_type": "code",
   "execution_count": 216,
   "metadata": {},
   "outputs": [
    {
     "name": "stdout",
     "output_type": "stream",
     "text": [
      "Variance score (R2) for linear regression was: 0.72\n"
     ]
    }
   ],
   "source": [
    "# R-squared\n",
    "print('Variance score (R2) for linear regression was: %.2f' % metrics.r2_score(y_test, y_linpred_pca))"
   ]
  },
  {
   "cell_type": "code",
   "execution_count": 217,
   "metadata": {},
   "outputs": [
    {
     "data": {
      "image/png": "[encoded data removed]",
      "text/plain": [
       "<Figure size 720x432 with 1 Axes>"
      ]
     },
     "metadata": {
      "needs_background": "light"
     },
     "output_type": "display_data"
    }
   ],
   "source": [
    "# Plot Comparing Actual and Predicted Values using Linear Regression Model\n",
    "plt.figure(figsize=(10, 6))\n",
    "plt.plot(y_linpred_pca, label='Predicted')\n",
    "plt.plot(y_test, label='Actual', alpha=0.7, linestyle=':')\n",
    "plt.ylabel('New Cases')\n",
    "plt.xlabel('Observation Number')\n",
    "plt.title('Comparing Actual and Predicted Values using Linear Regression Model')\n",
    "plt.legend()\n",
    "plt.show()"
   ]
  },
  {
   "cell_type": "markdown",
   "metadata": {},
   "source": [
    "### <a id=\"i2_ID\">9.2 KNN Regression</a>"
   ]
  },
  {
   "cell_type": "markdown",
   "metadata": {},
   "source": [
    "### Without RFE or PCA"
   ]
  },
  {
   "cell_type": "code",
   "execution_count": 218,
   "metadata": {},
   "outputs": [],
   "source": [
    "# Import KNN regressor library\n",
    "from sklearn.neighbors import KNeighborsRegressor"
   ]
  },
  {
   "cell_type": "code",
   "execution_count": 219,
   "metadata": {},
   "outputs": [],
   "source": [
    "# Instantiate KNN regression\n",
    "neigh_regr = KNeighborsRegressor(n_neighbors=5) # weights='uniform', distance='minkowski'"
   ]
  },
  {
   "cell_type": "code",
   "execution_count": 220,
   "metadata": {},
   "outputs": [
    {
     "data": {
      "text/plain": [
       "KNeighborsRegressor()"
      ]
     },
     "execution_count": 220,
     "metadata": {},
     "output_type": "execute_result"
    }
   ],
   "source": [
    "# Fit the model\n",
    "neigh_regr.fit(df, y_train_sc)"
   ]
  },
  {
   "cell_type": "code",
   "execution_count": 221,
   "metadata": {},
   "outputs": [
    {
     "data": {
      "text/plain": [
       "0.7539325092195125"
      ]
     },
     "execution_count": 221,
     "metadata": {},
     "output_type": "execute_result"
    }
   ],
   "source": [
    "# R-squared score\n",
    "neigh_regr.score(df, y_train_sc)"
   ]
  },
  {
   "cell_type": "code",
   "execution_count": 222,
   "metadata": {},
   "outputs": [
    {
     "name": "stdout",
     "output_type": "stream",
     "text": [
      "0.6572067322683613\n"
     ]
    }
   ],
   "source": [
    "# R-squared score\n",
    "print(cross_val_score(neigh_regr, df, y_train_sc, cv=10, scoring='r2').mean())"
   ]
  },
  {
   "cell_type": "code",
   "execution_count": 223,
   "metadata": {},
   "outputs": [
    {
     "name": "stdout",
     "output_type": "stream",
     "text": [
      "0.13308544048506626\n"
     ]
    }
   ],
   "source": [
    "# Mean Absolute Error\n",
    "print(-cross_val_score(neigh_regr, df, y_train_sc, cv=10, scoring='neg_mean_absolute_error').mean())"
   ]
  },
  {
   "cell_type": "code",
   "execution_count": 224,
   "metadata": {},
   "outputs": [
    {
     "name": "stdout",
     "output_type": "stream",
     "text": [
      "0.39246996020249036\n"
     ]
    }
   ],
   "source": [
    "# Mean Squared Error\n",
    "print(-cross_val_score(neigh_regr, df, y_train_sc, cv=10, scoring='neg_mean_squared_error').mean())"
   ]
  },
  {
   "cell_type": "code",
   "execution_count": 225,
   "metadata": {},
   "outputs": [
    {
     "name": "stdout",
     "output_type": "stream",
     "text": [
      "0.5687950233823739\n"
     ]
    }
   ],
   "source": [
    "# Root Mean Squared Error\n",
    "print(np.sqrt(-cross_val_score(neigh_regr, df, y_train_sc, cv=10, scoring='neg_mean_squared_error')).mean())"
   ]
  },
  {
   "cell_type": "code",
   "execution_count": 226,
   "metadata": {},
   "outputs": [
    {
     "data": {
      "text/plain": [
       "array([[0.042],\n",
       "       [0.184],\n",
       "       [0.004],\n",
       "       ...,\n",
       "       [0.072],\n",
       "       [0.134],\n",
       "       [0.01 ]])"
      ]
     },
     "execution_count": 226,
     "metadata": {},
     "output_type": "execute_result"
    }
   ],
   "source": [
    "y_neighpred_sc = neigh_regr.predict(df_2)\n",
    "y_neighpred = sc_y.inverse_transform(y_neighpred_sc)\n",
    "y_neighpred"
   ]
  },
  {
   "cell_type": "code",
   "execution_count": 227,
   "metadata": {},
   "outputs": [
    {
     "name": "stdout",
     "output_type": "stream",
     "text": [
      "MAE for kNN regression was: 0.11\n"
     ]
    }
   ],
   "source": [
    "# Mean Absolute Error\n",
    "print(\"MAE for kNN regression was: %.2f\" % metrics.mean_absolute_error(y_test, y_neighpred))"
   ]
  },
  {
   "cell_type": "code",
   "execution_count": 228,
   "metadata": {},
   "outputs": [
    {
     "name": "stdout",
     "output_type": "stream",
     "text": [
      "MSE for kNN regression was: 0.35\n"
     ]
    }
   ],
   "source": [
    "# Mean Squared Error\n",
    "print(\"MSE for kNN regression was: %.2f\" % metrics.mean_squared_error(y_test, y_neighpred))"
   ]
  },
  {
   "cell_type": "code",
   "execution_count": 229,
   "metadata": {},
   "outputs": [
    {
     "name": "stdout",
     "output_type": "stream",
     "text": [
      "RMSE was 0.5926711020293828\n"
     ]
    }
   ],
   "source": [
    "# Root Mean Squared Error\n",
    "print(\"RMSE was\", np.sqrt(metrics.mean_squared_error(y_test, y_neighpred)))"
   ]
  },
  {
   "cell_type": "code",
   "execution_count": 230,
   "metadata": {},
   "outputs": [
    {
     "name": "stdout",
     "output_type": "stream",
     "text": [
      "Variance score (R2) for kNN regression was: 0.61\n"
     ]
    }
   ],
   "source": [
    "# R-squared\n",
    "print('Variance score (R2) for kNN regression was: %.2f' % metrics.r2_score(y_test, y_neighpred))"
   ]
  },
  {
   "cell_type": "code",
   "execution_count": 231,
   "metadata": {},
   "outputs": [
    {
     "data": {
      "image/png": "[encoded data removed]",
      "text/plain": [
       "<Figure size 720x432 with 1 Axes>"
      ]
     },
     "metadata": {
      "needs_background": "light"
     },
     "output_type": "display_data"
    }
   ],
   "source": [
    "# Plot Comparing Actual and Predicted Values using kNN Regression Model\n",
    "plt.figure(figsize=(10, 6))\n",
    "plt.plot(y_neighpred, label='Predicted')\n",
    "plt.plot(y_test, label='Actual', alpha=0.7, linestyle=':')\n",
    "plt.ylabel('New Cases')\n",
    "plt.xlabel('Observation Number')\n",
    "plt.title('Comparing Actual and Predicted Values using kNN Regression Model')\n",
    "plt.legend()\n",
    "plt.show()"
   ]
  },
  {
   "cell_type": "markdown",
   "metadata": {},
   "source": [
    "### With RFE"
   ]
  },
  {
   "cell_type": "code",
   "execution_count": 235,
   "metadata": {},
   "outputs": [],
   "source": [
    "# Instantiate KNN regression\n",
    "neigh_regr_rfe = KNeighborsRegressor(n_neighbors=5) # weights='uniform', distance='minkowski'"
   ]
  },
  {
   "cell_type": "code",
   "execution_count": 236,
   "metadata": {},
   "outputs": [
    {
     "data": {
      "text/plain": [
       "KNeighborsRegressor()"
      ]
     },
     "execution_count": 236,
     "metadata": {},
     "output_type": "execute_result"
    }
   ],
   "source": [
    "# Fit the model\n",
    "neigh_regr_rfe.fit(X_train_rfe, y_train_sc)"
   ]
  },
  {
   "cell_type": "code",
   "execution_count": 237,
   "metadata": {},
   "outputs": [
    {
     "data": {
      "text/plain": [
       "0.7586758491689253"
      ]
     },
     "execution_count": 237,
     "metadata": {},
     "output_type": "execute_result"
    }
   ],
   "source": [
    "# R-squared score\n",
    "neigh_regr_rfe.score(X_train_rfe, y_train_sc)"
   ]
  },
  {
   "cell_type": "code",
   "execution_count": 238,
   "metadata": {},
   "outputs": [
    {
     "data": {
      "text/plain": [
       "0.7586758491689253"
      ]
     },
     "execution_count": 238,
     "metadata": {},
     "output_type": "execute_result"
    }
   ],
   "source": [
    "# R-squared score\n",
    "neigh_regr_rfe.score(X_train_rfe, y_train_sc)"
   ]
  },
  {
   "cell_type": "code",
   "execution_count": 239,
   "metadata": {},
   "outputs": [
    {
     "name": "stdout",
     "output_type": "stream",
     "text": [
      "0.10331356227837851\n"
     ]
    }
   ],
   "source": [
    "# Mean Absolute Error\n",
    "print(-cross_val_score(neigh_regr_rfe, X_train_rfe, y_train_sc, cv=10, scoring='neg_mean_absolute_error').mean())"
   ]
  },
  {
   "cell_type": "code",
   "execution_count": 240,
   "metadata": {},
   "outputs": [
    {
     "name": "stdout",
     "output_type": "stream",
     "text": [
      "0.37889303532183816\n"
     ]
    }
   ],
   "source": [
    "# Mean Squared Error\n",
    "print(-cross_val_score(neigh_regr_rfe, X_train_rfe, y_train_sc, cv=10, scoring='neg_mean_squared_error').mean())"
   ]
  },
  {
   "cell_type": "code",
   "execution_count": 241,
   "metadata": {},
   "outputs": [
    {
     "name": "stdout",
     "output_type": "stream",
     "text": [
      "0.5501387426583482\n"
     ]
    }
   ],
   "source": [
    "# Root Mean Squared Error\n",
    "print(np.sqrt(-cross_val_score(neigh_regr_rfe, X_train_rfe, y_train_sc, cv=10, scoring='neg_mean_squared_error')).mean())"
   ]
  },
  {
   "cell_type": "code",
   "execution_count": 242,
   "metadata": {},
   "outputs": [
    {
     "data": {
      "text/plain": [
       "array([[0.022],\n",
       "       [0.34 ],\n",
       "       [0.   ],\n",
       "       ...,\n",
       "       [0.072],\n",
       "       [0.08 ],\n",
       "       [0.056]])"
      ]
     },
     "execution_count": 242,
     "metadata": {},
     "output_type": "execute_result"
    }
   ],
   "source": [
    "y_neighpred_rfe_sc = neigh_regr_rfe.predict(X_test_rfe)\n",
    "y_neighpred_rfe = sc_y.inverse_transform(y_neighpred_rfe_sc)\n",
    "y_neighpred_rfe"
   ]
  },
  {
   "cell_type": "code",
   "execution_count": 243,
   "metadata": {},
   "outputs": [
    {
     "name": "stdout",
     "output_type": "stream",
     "text": [
      "MAE for kNN regression was: 0.09\n"
     ]
    }
   ],
   "source": [
    "# Mean Absolute Error\n",
    "print(\"MAE for kNN regression was: %.2f\" % metrics.mean_absolute_error(y_test, y_neighpred_rfe))"
   ]
  },
  {
   "cell_type": "code",
   "execution_count": 244,
   "metadata": {},
   "outputs": [
    {
     "name": "stdout",
     "output_type": "stream",
     "text": [
      "MSE for kNN regression was: 0.37\n"
     ]
    }
   ],
   "source": [
    "# Mean Squared Error\n",
    "print(\"MSE for kNN regression was: %.2f\" % metrics.mean_squared_error(y_test, y_neighpred_rfe))"
   ]
  },
  {
   "cell_type": "code",
   "execution_count": 245,
   "metadata": {},
   "outputs": [
    {
     "name": "stdout",
     "output_type": "stream",
     "text": [
      "RMSE was 0.610091626537428\n"
     ]
    }
   ],
   "source": [
    "# Root Mean Squared Error\n",
    "print(\"RMSE was\", np.sqrt(metrics.mean_squared_error(y_test, y_neighpred_rfe)))"
   ]
  },
  {
   "cell_type": "code",
   "execution_count": 246,
   "metadata": {},
   "outputs": [
    {
     "name": "stdout",
     "output_type": "stream",
     "text": [
      "Variance score (R2) for kNN regression was: 0.59\n"
     ]
    }
   ],
   "source": [
    "# R-squared\n",
    "print('Variance score (R2) for kNN regression was: %.2f' % metrics.r2_score(y_test, y_neighpred_rfe))"
   ]
  },
  {
   "cell_type": "code",
   "execution_count": 247,
   "metadata": {},
   "outputs": [
    {
     "data": {
      "image/png": "[encoded data removed]",
      "text/plain": [
       "<Figure size 720x432 with 1 Axes>"
      ]
     },
     "metadata": {
      "needs_background": "light"
     },
     "output_type": "display_data"
    }
   ],
   "source": [
    "# Plot Comparing Actual and Predicted Values using kNN Regression Model\n",
    "plt.figure(figsize=(10, 6))\n",
    "plt.plot(y_neighpred_rfe, label='Predicted')\n",
    "plt.plot(y_test, label='Actual', alpha=0.7, linestyle=':')\n",
    "plt.ylabel('New Cases')\n",
    "plt.xlabel('Observation Number')\n",
    "plt.title('Comparing Actual and Predicted Values using kNN Regression Model')\n",
    "plt.legend()\n",
    "plt.show()"
   ]
  },
  {
   "cell_type": "markdown",
   "metadata": {},
   "source": [
    "### With PCA"
   ]
  },
  {
   "cell_type": "code",
   "execution_count": 248,
   "metadata": {},
   "outputs": [],
   "source": [
    "# Instantiate KNN regression\n",
    "neigh_regr_pca = KNeighborsRegressor(n_neighbors=5) # weights='uniform', distance='minkowski'"
   ]
  },
  {
   "cell_type": "code",
   "execution_count": 249,
   "metadata": {},
   "outputs": [
    {
     "data": {
      "text/plain": [
       "KNeighborsRegressor()"
      ]
     },
     "execution_count": 249,
     "metadata": {},
     "output_type": "execute_result"
    }
   ],
   "source": [
    "# Fit the model\n",
    "neigh_regr_pca.fit(X_train_pca_6, y_train_sc)"
   ]
  },
  {
   "cell_type": "code",
   "execution_count": 250,
   "metadata": {},
   "outputs": [
    {
     "data": {
      "text/plain": [
       "0.7204773750152502"
      ]
     },
     "execution_count": 250,
     "metadata": {},
     "output_type": "execute_result"
    }
   ],
   "source": [
    "# R-squared score\n",
    "neigh_regr_pca.score(X_train_pca_6, y_train_sc)"
   ]
  },
  {
   "cell_type": "code",
   "execution_count": 251,
   "metadata": {},
   "outputs": [
    {
     "data": {
      "text/plain": [
       "0.7204773750152502"
      ]
     },
     "execution_count": 251,
     "metadata": {},
     "output_type": "execute_result"
    }
   ],
   "source": [
    "# R-squared score\n",
    "neigh_regr_pca.score(X_train_pca_6, y_train_sc)"
   ]
  },
  {
   "cell_type": "code",
   "execution_count": 252,
   "metadata": {},
   "outputs": [
    {
     "name": "stdout",
     "output_type": "stream",
     "text": [
      "0.17764514975076612\n"
     ]
    }
   ],
   "source": [
    "# Mean Absolute Error\n",
    "print(-cross_val_score(neigh_regr_pca, X_train_pca_6, y_train_sc, cv=10, scoring='neg_mean_absolute_error').mean())"
   ]
  },
  {
   "cell_type": "code",
   "execution_count": 253,
   "metadata": {},
   "outputs": [
    {
     "name": "stdout",
     "output_type": "stream",
     "text": [
      "0.4266990394409743\n"
     ]
    }
   ],
   "source": [
    "# Mean Squared Error\n",
    "print(-cross_val_score(neigh_regr_pca, X_train_pca_6, y_train_sc, cv=10, scoring='neg_mean_squared_error').mean())"
   ]
  },
  {
   "cell_type": "code",
   "execution_count": 254,
   "metadata": {},
   "outputs": [
    {
     "name": "stdout",
     "output_type": "stream",
     "text": [
      "0.6070429963646251\n"
     ]
    }
   ],
   "source": [
    "# Root Mean Squared Error\n",
    "print(np.sqrt(-cross_val_score(neigh_regr_pca, X_train_pca_6, y_train_sc, cv=10, scoring='neg_mean_squared_error')).mean())"
   ]
  },
  {
   "cell_type": "code",
   "execution_count": 255,
   "metadata": {},
   "outputs": [
    {
     "data": {
      "text/plain": [
       "array([[0.028],\n",
       "       [0.106],\n",
       "       [0.004],\n",
       "       ...,\n",
       "       [0.088],\n",
       "       [0.2  ],\n",
       "       [0.01 ]])"
      ]
     },
     "execution_count": 255,
     "metadata": {},
     "output_type": "execute_result"
    }
   ],
   "source": [
    "y_neighpred_pca_sc = neigh_regr_pca.predict(X_test_pca_6)\n",
    "y_neighpred_pca = sc_y.inverse_transform(y_neighpred_pca_sc)\n",
    "y_neighpred_pca"
   ]
  },
  {
   "cell_type": "code",
   "execution_count": 256,
   "metadata": {},
   "outputs": [
    {
     "name": "stdout",
     "output_type": "stream",
     "text": [
      "MAE for kNN regression was: 0.14\n"
     ]
    }
   ],
   "source": [
    "# Mean Absolute Error\n",
    "print(\"MAE for kNN regression was: %.2f\" % metrics.mean_absolute_error(y_test, y_neighpred_pca))"
   ]
  },
  {
   "cell_type": "code",
   "execution_count": 257,
   "metadata": {},
   "outputs": [
    {
     "name": "stdout",
     "output_type": "stream",
     "text": [
      "MSE for kNN regression was: 0.43\n"
     ]
    }
   ],
   "source": [
    "# Mean Squared Error\n",
    "print(\"MSE for kNN regression was: %.2f\" % metrics.mean_squared_error(y_test, y_neighpred_pca))"
   ]
  },
  {
   "cell_type": "code",
   "execution_count": 258,
   "metadata": {},
   "outputs": [
    {
     "name": "stdout",
     "output_type": "stream",
     "text": [
      "RMSE was 0.6524017736156666\n"
     ]
    }
   ],
   "source": [
    "# Root Mean Squared Error\n",
    "print(\"RMSE was\", np.sqrt(metrics.mean_squared_error(y_test, y_neighpred_pca)))"
   ]
  },
  {
   "cell_type": "code",
   "execution_count": 259,
   "metadata": {},
   "outputs": [
    {
     "name": "stdout",
     "output_type": "stream",
     "text": [
      "Variance score (R2) for kNN regression was: 0.53\n"
     ]
    }
   ],
   "source": [
    "# R-squared\n",
    "print('Variance score (R2) for kNN regression was: %.2f' % metrics.r2_score(y_test, y_neighpred_pca))"
   ]
  },
  {
   "cell_type": "code",
   "execution_count": 260,
   "metadata": {},
   "outputs": [
    {
     "data": {
      "image/png": "[encoded data removed]",
      "text/plain": [
       "<Figure size 720x432 with 1 Axes>"
      ]
     },
     "metadata": {
      "needs_background": "light"
     },
     "output_type": "display_data"
    }
   ],
   "source": [
    "# Plot Comparing Actual and Predicted Values using kNN Regression Model\n",
    "plt.figure(figsize=(10, 6))\n",
    "plt.plot(y_neighpred_pca, label='Predicted')\n",
    "plt.plot(y_test, label='Actual', alpha=0.7, linestyle=':')\n",
    "plt.ylabel('New Cases')\n",
    "plt.xlabel('Observation Number')\n",
    "plt.title('Comparing Actual and Predicted Values using kNN Regression Model')\n",
    "plt.legend()\n",
    "plt.show()"
   ]
  },
  {
   "cell_type": "markdown",
   "metadata": {},
   "source": [
    "### <a id=\"i3_ID\">9.3 SVM Regression</a>"
   ]
  },
  {
   "cell_type": "markdown",
   "metadata": {},
   "source": [
    "### Without RFE or PCA"
   ]
  },
  {
   "cell_type": "code",
   "execution_count": 261,
   "metadata": {},
   "outputs": [],
   "source": [
    "# Import SVM regression library\n",
    "from sklearn.svm import SVR"
   ]
  },
  {
   "cell_type": "code",
   "execution_count": 262,
   "metadata": {},
   "outputs": [],
   "source": [
    "# Instantiate SVM regression\n",
    "svr = SVR(kernel='rbf', gamma = 'auto') # C=1.0, episolon=0.1"
   ]
  },
  {
   "cell_type": "code",
   "execution_count": 263,
   "metadata": {},
   "outputs": [
    {
     "name": "stderr",
     "output_type": "stream",
     "text": [
      "C:\\Users\\nathi\\Anaconda3\\lib\\site-packages\\sklearn\\utils\\validation.py:72: DataConversionWarning: A column-vector y was passed when a 1d array was expected. Please change the shape of y to (n_samples, ), for example using ravel().\n",
      "  return f(**kwargs)\n"
     ]
    },
    {
     "data": {
      "text/plain": [
       "SVR(gamma='auto')"
      ]
     },
     "execution_count": 263,
     "metadata": {},
     "output_type": "execute_result"
    }
   ],
   "source": [
    "# Fit the model\n",
    "svr.fit(df, y_train_sc)"
   ]
  },
  {
   "cell_type": "code",
   "execution_count": 264,
   "metadata": {},
   "outputs": [
    {
     "data": {
      "text/plain": [
       "0.5605160876043566"
      ]
     },
     "execution_count": 264,
     "metadata": {},
     "output_type": "execute_result"
    }
   ],
   "source": [
    "# R-squared score\n",
    "svr.score(df, y_train_sc)"
   ]
  },
  {
   "cell_type": "code",
   "execution_count": 265,
   "metadata": {},
   "outputs": [
    {
     "name": "stderr",
     "output_type": "stream",
     "text": [
      "C:\\Users\\nathi\\Anaconda3\\lib\\site-packages\\sklearn\\utils\\validation.py:72: DataConversionWarning: A column-vector y was passed when a 1d array was expected. Please change the shape of y to (n_samples, ), for example using ravel().\n",
      "  return f(**kwargs)\n",
      "C:\\Users\\nathi\\Anaconda3\\lib\\site-packages\\sklearn\\utils\\validation.py:72: DataConversionWarning: A column-vector y was passed when a 1d array was expected. Please change the shape of y to (n_samples, ), for example using ravel().\n",
      "  return f(**kwargs)\n",
      "C:\\Users\\nathi\\Anaconda3\\lib\\site-packages\\sklearn\\utils\\validation.py:72: DataConversionWarning: A column-vector y was passed when a 1d array was expected. Please change the shape of y to (n_samples, ), for example using ravel().\n",
      "  return f(**kwargs)\n",
      "C:\\Users\\nathi\\Anaconda3\\lib\\site-packages\\sklearn\\utils\\validation.py:72: DataConversionWarning: A column-vector y was passed when a 1d array was expected. Please change the shape of y to (n_samples, ), for example using ravel().\n",
      "  return f(**kwargs)\n",
      "C:\\Users\\nathi\\Anaconda3\\lib\\site-packages\\sklearn\\utils\\validation.py:72: DataConversionWarning: A column-vector y was passed when a 1d array was expected. Please change the shape of y to (n_samples, ), for example using ravel().\n",
      "  return f(**kwargs)\n",
      "C:\\Users\\nathi\\Anaconda3\\lib\\site-packages\\sklearn\\utils\\validation.py:72: DataConversionWarning: A column-vector y was passed when a 1d array was expected. Please change the shape of y to (n_samples, ), for example using ravel().\n",
      "  return f(**kwargs)\n",
      "C:\\Users\\nathi\\Anaconda3\\lib\\site-packages\\sklearn\\utils\\validation.py:72: DataConversionWarning: A column-vector y was passed when a 1d array was expected. Please change the shape of y to (n_samples, ), for example using ravel().\n",
      "  return f(**kwargs)\n",
      "C:\\Users\\nathi\\Anaconda3\\lib\\site-packages\\sklearn\\utils\\validation.py:72: DataConversionWarning: A column-vector y was passed when a 1d array was expected. Please change the shape of y to (n_samples, ), for example using ravel().\n",
      "  return f(**kwargs)\n",
      "C:\\Users\\nathi\\Anaconda3\\lib\\site-packages\\sklearn\\utils\\validation.py:72: DataConversionWarning: A column-vector y was passed when a 1d array was expected. Please change the shape of y to (n_samples, ), for example using ravel().\n",
      "  return f(**kwargs)\n",
      "C:\\Users\\nathi\\Anaconda3\\lib\\site-packages\\sklearn\\utils\\validation.py:72: DataConversionWarning: A column-vector y was passed when a 1d array was expected. Please change the shape of y to (n_samples, ), for example using ravel().\n",
      "  return f(**kwargs)\n"
     ]
    },
    {
     "name": "stdout",
     "output_type": "stream",
     "text": [
      "0.5772993789749636\n"
     ]
    }
   ],
   "source": [
    "# R-squared score\n",
    "print(cross_val_score(svr, df, y_train_sc, cv=10, scoring='r2').mean())"
   ]
  },
  {
   "cell_type": "code",
   "execution_count": 266,
   "metadata": {},
   "outputs": [
    {
     "name": "stderr",
     "output_type": "stream",
     "text": [
      "C:\\Users\\nathi\\Anaconda3\\lib\\site-packages\\sklearn\\utils\\validation.py:72: DataConversionWarning: A column-vector y was passed when a 1d array was expected. Please change the shape of y to (n_samples, ), for example using ravel().\n",
      "  return f(**kwargs)\n",
      "C:\\Users\\nathi\\Anaconda3\\lib\\site-packages\\sklearn\\utils\\validation.py:72: DataConversionWarning: A column-vector y was passed when a 1d array was expected. Please change the shape of y to (n_samples, ), for example using ravel().\n",
      "  return f(**kwargs)\n",
      "C:\\Users\\nathi\\Anaconda3\\lib\\site-packages\\sklearn\\utils\\validation.py:72: DataConversionWarning: A column-vector y was passed when a 1d array was expected. Please change the shape of y to (n_samples, ), for example using ravel().\n",
      "  return f(**kwargs)\n",
      "C:\\Users\\nathi\\Anaconda3\\lib\\site-packages\\sklearn\\utils\\validation.py:72: DataConversionWarning: A column-vector y was passed when a 1d array was expected. Please change the shape of y to (n_samples, ), for example using ravel().\n",
      "  return f(**kwargs)\n",
      "C:\\Users\\nathi\\Anaconda3\\lib\\site-packages\\sklearn\\utils\\validation.py:72: DataConversionWarning: A column-vector y was passed when a 1d array was expected. Please change the shape of y to (n_samples, ), for example using ravel().\n",
      "  return f(**kwargs)\n",
      "C:\\Users\\nathi\\Anaconda3\\lib\\site-packages\\sklearn\\utils\\validation.py:72: DataConversionWarning: A column-vector y was passed when a 1d array was expected. Please change the shape of y to (n_samples, ), for example using ravel().\n",
      "  return f(**kwargs)\n",
      "C:\\Users\\nathi\\Anaconda3\\lib\\site-packages\\sklearn\\utils\\validation.py:72: DataConversionWarning: A column-vector y was passed when a 1d array was expected. Please change the shape of y to (n_samples, ), for example using ravel().\n",
      "  return f(**kwargs)\n",
      "C:\\Users\\nathi\\Anaconda3\\lib\\site-packages\\sklearn\\utils\\validation.py:72: DataConversionWarning: A column-vector y was passed when a 1d array was expected. Please change the shape of y to (n_samples, ), for example using ravel().\n",
      "  return f(**kwargs)\n",
      "C:\\Users\\nathi\\Anaconda3\\lib\\site-packages\\sklearn\\utils\\validation.py:72: DataConversionWarning: A column-vector y was passed when a 1d array was expected. Please change the shape of y to (n_samples, ), for example using ravel().\n",
      "  return f(**kwargs)\n",
      "C:\\Users\\nathi\\Anaconda3\\lib\\site-packages\\sklearn\\utils\\validation.py:72: DataConversionWarning: A column-vector y was passed when a 1d array was expected. Please change the shape of y to (n_samples, ), for example using ravel().\n",
      "  return f(**kwargs)\n"
     ]
    },
    {
     "name": "stdout",
     "output_type": "stream",
     "text": [
      "0.12018525558537743\n"
     ]
    }
   ],
   "source": [
    "# Mean Absolute Error\n",
    "print(-cross_val_score(svr, df, y_train_sc, cv=10, scoring='neg_mean_absolute_error').mean())"
   ]
  },
  {
   "cell_type": "code",
   "execution_count": 267,
   "metadata": {},
   "outputs": [
    {
     "name": "stderr",
     "output_type": "stream",
     "text": [
      "C:\\Users\\nathi\\Anaconda3\\lib\\site-packages\\sklearn\\utils\\validation.py:72: DataConversionWarning: A column-vector y was passed when a 1d array was expected. Please change the shape of y to (n_samples, ), for example using ravel().\n",
      "  return f(**kwargs)\n",
      "C:\\Users\\nathi\\Anaconda3\\lib\\site-packages\\sklearn\\utils\\validation.py:72: DataConversionWarning: A column-vector y was passed when a 1d array was expected. Please change the shape of y to (n_samples, ), for example using ravel().\n",
      "  return f(**kwargs)\n",
      "C:\\Users\\nathi\\Anaconda3\\lib\\site-packages\\sklearn\\utils\\validation.py:72: DataConversionWarning: A column-vector y was passed when a 1d array was expected. Please change the shape of y to (n_samples, ), for example using ravel().\n",
      "  return f(**kwargs)\n",
      "C:\\Users\\nathi\\Anaconda3\\lib\\site-packages\\sklearn\\utils\\validation.py:72: DataConversionWarning: A column-vector y was passed when a 1d array was expected. Please change the shape of y to (n_samples, ), for example using ravel().\n",
      "  return f(**kwargs)\n",
      "C:\\Users\\nathi\\Anaconda3\\lib\\site-packages\\sklearn\\utils\\validation.py:72: DataConversionWarning: A column-vector y was passed when a 1d array was expected. Please change the shape of y to (n_samples, ), for example using ravel().\n",
      "  return f(**kwargs)\n",
      "C:\\Users\\nathi\\Anaconda3\\lib\\site-packages\\sklearn\\utils\\validation.py:72: DataConversionWarning: A column-vector y was passed when a 1d array was expected. Please change the shape of y to (n_samples, ), for example using ravel().\n",
      "  return f(**kwargs)\n",
      "C:\\Users\\nathi\\Anaconda3\\lib\\site-packages\\sklearn\\utils\\validation.py:72: DataConversionWarning: A column-vector y was passed when a 1d array was expected. Please change the shape of y to (n_samples, ), for example using ravel().\n",
      "  return f(**kwargs)\n",
      "C:\\Users\\nathi\\Anaconda3\\lib\\site-packages\\sklearn\\utils\\validation.py:72: DataConversionWarning: A column-vector y was passed when a 1d array was expected. Please change the shape of y to (n_samples, ), for example using ravel().\n",
      "  return f(**kwargs)\n",
      "C:\\Users\\nathi\\Anaconda3\\lib\\site-packages\\sklearn\\utils\\validation.py:72: DataConversionWarning: A column-vector y was passed when a 1d array was expected. Please change the shape of y to (n_samples, ), for example using ravel().\n",
      "  return f(**kwargs)\n",
      "C:\\Users\\nathi\\Anaconda3\\lib\\site-packages\\sklearn\\utils\\validation.py:72: DataConversionWarning: A column-vector y was passed when a 1d array was expected. Please change the shape of y to (n_samples, ), for example using ravel().\n",
      "  return f(**kwargs)\n"
     ]
    },
    {
     "name": "stdout",
     "output_type": "stream",
     "text": [
      "0.5062966997393871\n"
     ]
    }
   ],
   "source": [
    "# Mean Squared Error\n",
    "print(-cross_val_score(svr, df, y_train_sc, cv=10, scoring='neg_mean_squared_error').mean())"
   ]
  },
  {
   "cell_type": "code",
   "execution_count": 268,
   "metadata": {},
   "outputs": [
    {
     "name": "stderr",
     "output_type": "stream",
     "text": [
      "C:\\Users\\nathi\\Anaconda3\\lib\\site-packages\\sklearn\\utils\\validation.py:72: DataConversionWarning: A column-vector y was passed when a 1d array was expected. Please change the shape of y to (n_samples, ), for example using ravel().\n",
      "  return f(**kwargs)\n",
      "C:\\Users\\nathi\\Anaconda3\\lib\\site-packages\\sklearn\\utils\\validation.py:72: DataConversionWarning: A column-vector y was passed when a 1d array was expected. Please change the shape of y to (n_samples, ), for example using ravel().\n",
      "  return f(**kwargs)\n",
      "C:\\Users\\nathi\\Anaconda3\\lib\\site-packages\\sklearn\\utils\\validation.py:72: DataConversionWarning: A column-vector y was passed when a 1d array was expected. Please change the shape of y to (n_samples, ), for example using ravel().\n",
      "  return f(**kwargs)\n",
      "C:\\Users\\nathi\\Anaconda3\\lib\\site-packages\\sklearn\\utils\\validation.py:72: DataConversionWarning: A column-vector y was passed when a 1d array was expected. Please change the shape of y to (n_samples, ), for example using ravel().\n",
      "  return f(**kwargs)\n",
      "C:\\Users\\nathi\\Anaconda3\\lib\\site-packages\\sklearn\\utils\\validation.py:72: DataConversionWarning: A column-vector y was passed when a 1d array was expected. Please change the shape of y to (n_samples, ), for example using ravel().\n",
      "  return f(**kwargs)\n",
      "C:\\Users\\nathi\\Anaconda3\\lib\\site-packages\\sklearn\\utils\\validation.py:72: DataConversionWarning: A column-vector y was passed when a 1d array was expected. Please change the shape of y to (n_samples, ), for example using ravel().\n",
      "  return f(**kwargs)\n",
      "C:\\Users\\nathi\\Anaconda3\\lib\\site-packages\\sklearn\\utils\\validation.py:72: DataConversionWarning: A column-vector y was passed when a 1d array was expected. Please change the shape of y to (n_samples, ), for example using ravel().\n",
      "  return f(**kwargs)\n",
      "C:\\Users\\nathi\\Anaconda3\\lib\\site-packages\\sklearn\\utils\\validation.py:72: DataConversionWarning: A column-vector y was passed when a 1d array was expected. Please change the shape of y to (n_samples, ), for example using ravel().\n",
      "  return f(**kwargs)\n",
      "C:\\Users\\nathi\\Anaconda3\\lib\\site-packages\\sklearn\\utils\\validation.py:72: DataConversionWarning: A column-vector y was passed when a 1d array was expected. Please change the shape of y to (n_samples, ), for example using ravel().\n",
      "  return f(**kwargs)\n",
      "C:\\Users\\nathi\\Anaconda3\\lib\\site-packages\\sklearn\\utils\\validation.py:72: DataConversionWarning: A column-vector y was passed when a 1d array was expected. Please change the shape of y to (n_samples, ), for example using ravel().\n",
      "  return f(**kwargs)\n"
     ]
    },
    {
     "name": "stdout",
     "output_type": "stream",
     "text": [
      "0.6470035130001179\n"
     ]
    }
   ],
   "source": [
    "# Root Mean Squared Error\n",
    "print(np.sqrt(-cross_val_score(svr, df, y_train_sc, cv=10, scoring='neg_mean_squared_error')).mean())"
   ]
  },
  {
   "cell_type": "code",
   "execution_count": 269,
   "metadata": {},
   "outputs": [
    {
     "data": {
      "text/plain": [
       "array([   13,    21,    26, ..., 12436, 12437, 12446])"
      ]
     },
     "execution_count": 269,
     "metadata": {},
     "output_type": "execute_result"
    }
   ],
   "source": [
    "svr.support_"
   ]
  },
  {
   "cell_type": "code",
   "execution_count": 270,
   "metadata": {},
   "outputs": [
    {
     "data": {
      "text/plain": [
       "array([[-2.33373141e-01, -1.33775640e+00,  1.45581791e-01, ...,\n",
       "        -2.92135748e-02, -1.85811703e-01, -4.19614825e-02],\n",
       "       [ 9.95472795e-01, -1.66165736e+00,  1.58070524e+00, ...,\n",
       "        -2.98086461e-01, -2.49154231e-01, -2.70455154e-01],\n",
       "       [-1.57423519e+00,  1.06583484e+00,  8.63143515e-01, ...,\n",
       "        -3.20492535e-01,  4.34317905e+00, -9.90849004e-02],\n",
       "       ...,\n",
       "       [-1.38205885e+00,  1.33818724e-02,  3.84769032e-01, ...,\n",
       "         4.63720050e-01,  9.54353801e-01,  2.43655607e-01],\n",
       "       [-1.79740311e-04,  5.28801649e-01,  1.22192438e+00, ...,\n",
       "        -5.16196487e-02, -2.49154231e-01, -1.56208318e-01],\n",
       "       [-1.55383077e+00,  9.72777101e-01,  2.59881703e-02, ...,\n",
       "         1.80808448e+00, -2.49154231e-01,  1.32900055e+00]])"
      ]
     },
     "execution_count": 270,
     "metadata": {},
     "output_type": "execute_result"
    }
   ],
   "source": [
    "svr.support_vectors_"
   ]
  },
  {
   "cell_type": "code",
   "execution_count": 271,
   "metadata": {},
   "outputs": [
    {
     "data": {
      "text/plain": [
       "0.5605160876043566"
      ]
     },
     "execution_count": 271,
     "metadata": {},
     "output_type": "execute_result"
    }
   ],
   "source": [
    "svr.score(df, y_train_sc)"
   ]
  },
  {
   "cell_type": "code",
   "execution_count": 272,
   "metadata": {},
   "outputs": [
    {
     "data": {
      "text/plain": [
       "array([-0.04839709,  0.323828  ,  0.03304134, ...,  0.09767422,\n",
       "        0.04988528,  0.10814309])"
      ]
     },
     "execution_count": 272,
     "metadata": {},
     "output_type": "execute_result"
    }
   ],
   "source": [
    "y_svrpred_sc = svr.predict(df_2)\n",
    "y_svrpred = sc_y.inverse_transform(y_svrpred_sc)\n",
    "y_svrpred"
   ]
  },
  {
   "cell_type": "code",
   "execution_count": 273,
   "metadata": {},
   "outputs": [
    {
     "name": "stdout",
     "output_type": "stream",
     "text": [
      "MAE for SVM regression was: 0.10\n"
     ]
    }
   ],
   "source": [
    "# Mean Absolute Error\n",
    "print(\"MAE for SVM regression was: %.2f\" % metrics.mean_absolute_error(y_test, y_svrpred))"
   ]
  },
  {
   "cell_type": "code",
   "execution_count": 274,
   "metadata": {},
   "outputs": [
    {
     "name": "stdout",
     "output_type": "stream",
     "text": [
      "MSE for SVM regression was: 0.59\n"
     ]
    }
   ],
   "source": [
    "# Mean Squared Error\n",
    "print(\"MSE for SVM regression was: %.2f\" % metrics.mean_squared_error(y_test, y_svrpred))"
   ]
  },
  {
   "cell_type": "code",
   "execution_count": 275,
   "metadata": {},
   "outputs": [
    {
     "name": "stdout",
     "output_type": "stream",
     "text": [
      "RMSE was 0.7695428923641133\n"
     ]
    }
   ],
   "source": [
    "# Root Mean Squared Error\n",
    "print(\"RMSE was\", np.sqrt(metrics.mean_squared_error(y_test, y_svrpred)))"
   ]
  },
  {
   "cell_type": "code",
   "execution_count": 276,
   "metadata": {},
   "outputs": [
    {
     "name": "stdout",
     "output_type": "stream",
     "text": [
      "Variance score (R2) for SVM regression was: 0.34\n"
     ]
    }
   ],
   "source": [
    "# R-squared\n",
    "print('Variance score (R2) for SVM regression was: %.2f' % metrics.r2_score(y_test, y_svrpred))"
   ]
  },
  {
   "cell_type": "code",
   "execution_count": 277,
   "metadata": {},
   "outputs": [
    {
     "data": {
      "image/png": "[encoded data removed]",
      "text/plain": [
       "<Figure size 720x432 with 1 Axes>"
      ]
     },
     "metadata": {
      "needs_background": "light"
     },
     "output_type": "display_data"
    }
   ],
   "source": [
    "# Plot Comparing Actual and Predicted Values using SVM Regression Model\n",
    "plt.figure(figsize=(10, 6))\n",
    "plt.plot(y_svrpred, label='Predicted')\n",
    "plt.plot(y_test, label='Actual', alpha=0.7, linestyle=':')\n",
    "plt.ylabel('New Cases')\n",
    "plt.xlabel('Observation Number')\n",
    "plt.title('Comparing Actual and Predicted Values using SVM Regression Model')\n",
    "plt.legend()\n",
    "plt.show()"
   ]
  },
  {
   "cell_type": "markdown",
   "metadata": {},
   "source": [
    "### With RFE"
   ]
  },
  {
   "cell_type": "code",
   "execution_count": 278,
   "metadata": {},
   "outputs": [],
   "source": [
    "# Instantiate SVM regression\n",
    "svr_rfe = SVR(kernel='rbf', gamma = 'auto') # C=1.0, episolon=0.1"
   ]
  },
  {
   "cell_type": "code",
   "execution_count": 279,
   "metadata": {},
   "outputs": [
    {
     "name": "stderr",
     "output_type": "stream",
     "text": [
      "C:\\Users\\nathi\\Anaconda3\\lib\\site-packages\\sklearn\\utils\\validation.py:72: DataConversionWarning: A column-vector y was passed when a 1d array was expected. Please change the shape of y to (n_samples, ), for example using ravel().\n",
      "  return f(**kwargs)\n"
     ]
    },
    {
     "data": {
      "text/plain": [
       "SVR(gamma='auto')"
      ]
     },
     "execution_count": 279,
     "metadata": {},
     "output_type": "execute_result"
    }
   ],
   "source": [
    "# Fit the model\n",
    "svr_rfe.fit(X_train_rfe, y_train_sc)"
   ]
  },
  {
   "cell_type": "code",
   "execution_count": 280,
   "metadata": {},
   "outputs": [
    {
     "data": {
      "text/plain": [
       "0.5585903123193285"
      ]
     },
     "execution_count": 280,
     "metadata": {},
     "output_type": "execute_result"
    }
   ],
   "source": [
    "# R-squared score\n",
    "svr_rfe.score(X_train_rfe, y_train_sc)"
   ]
  },
  {
   "cell_type": "code",
   "execution_count": 281,
   "metadata": {},
   "outputs": [
    {
     "name": "stderr",
     "output_type": "stream",
     "text": [
      "C:\\Users\\nathi\\Anaconda3\\lib\\site-packages\\sklearn\\utils\\validation.py:72: DataConversionWarning: A column-vector y was passed when a 1d array was expected. Please change the shape of y to (n_samples, ), for example using ravel().\n",
      "  return f(**kwargs)\n",
      "C:\\Users\\nathi\\Anaconda3\\lib\\site-packages\\sklearn\\utils\\validation.py:72: DataConversionWarning: A column-vector y was passed when a 1d array was expected. Please change the shape of y to (n_samples, ), for example using ravel().\n",
      "  return f(**kwargs)\n",
      "C:\\Users\\nathi\\Anaconda3\\lib\\site-packages\\sklearn\\utils\\validation.py:72: DataConversionWarning: A column-vector y was passed when a 1d array was expected. Please change the shape of y to (n_samples, ), for example using ravel().\n",
      "  return f(**kwargs)\n",
      "C:\\Users\\nathi\\Anaconda3\\lib\\site-packages\\sklearn\\utils\\validation.py:72: DataConversionWarning: A column-vector y was passed when a 1d array was expected. Please change the shape of y to (n_samples, ), for example using ravel().\n",
      "  return f(**kwargs)\n",
      "C:\\Users\\nathi\\Anaconda3\\lib\\site-packages\\sklearn\\utils\\validation.py:72: DataConversionWarning: A column-vector y was passed when a 1d array was expected. Please change the shape of y to (n_samples, ), for example using ravel().\n",
      "  return f(**kwargs)\n",
      "C:\\Users\\nathi\\Anaconda3\\lib\\site-packages\\sklearn\\utils\\validation.py:72: DataConversionWarning: A column-vector y was passed when a 1d array was expected. Please change the shape of y to (n_samples, ), for example using ravel().\n",
      "  return f(**kwargs)\n",
      "C:\\Users\\nathi\\Anaconda3\\lib\\site-packages\\sklearn\\utils\\validation.py:72: DataConversionWarning: A column-vector y was passed when a 1d array was expected. Please change the shape of y to (n_samples, ), for example using ravel().\n",
      "  return f(**kwargs)\n",
      "C:\\Users\\nathi\\Anaconda3\\lib\\site-packages\\sklearn\\utils\\validation.py:72: DataConversionWarning: A column-vector y was passed when a 1d array was expected. Please change the shape of y to (n_samples, ), for example using ravel().\n",
      "  return f(**kwargs)\n",
      "C:\\Users\\nathi\\Anaconda3\\lib\\site-packages\\sklearn\\utils\\validation.py:72: DataConversionWarning: A column-vector y was passed when a 1d array was expected. Please change the shape of y to (n_samples, ), for example using ravel().\n",
      "  return f(**kwargs)\n",
      "C:\\Users\\nathi\\Anaconda3\\lib\\site-packages\\sklearn\\utils\\validation.py:72: DataConversionWarning: A column-vector y was passed when a 1d array was expected. Please change the shape of y to (n_samples, ), for example using ravel().\n",
      "  return f(**kwargs)\n"
     ]
    },
    {
     "name": "stdout",
     "output_type": "stream",
     "text": [
      "0.5786133489674781\n"
     ]
    }
   ],
   "source": [
    "# R-squared score\n",
    "print(cross_val_score(svr_rfe, X_train_rfe, y_train_sc, cv=10, scoring='r2').mean())"
   ]
  },
  {
   "cell_type": "code",
   "execution_count": 282,
   "metadata": {},
   "outputs": [
    {
     "name": "stderr",
     "output_type": "stream",
     "text": [
      "C:\\Users\\nathi\\Anaconda3\\lib\\site-packages\\sklearn\\utils\\validation.py:72: DataConversionWarning: A column-vector y was passed when a 1d array was expected. Please change the shape of y to (n_samples, ), for example using ravel().\n",
      "  return f(**kwargs)\n",
      "C:\\Users\\nathi\\Anaconda3\\lib\\site-packages\\sklearn\\utils\\validation.py:72: DataConversionWarning: A column-vector y was passed when a 1d array was expected. Please change the shape of y to (n_samples, ), for example using ravel().\n",
      "  return f(**kwargs)\n",
      "C:\\Users\\nathi\\Anaconda3\\lib\\site-packages\\sklearn\\utils\\validation.py:72: DataConversionWarning: A column-vector y was passed when a 1d array was expected. Please change the shape of y to (n_samples, ), for example using ravel().\n",
      "  return f(**kwargs)\n",
      "C:\\Users\\nathi\\Anaconda3\\lib\\site-packages\\sklearn\\utils\\validation.py:72: DataConversionWarning: A column-vector y was passed when a 1d array was expected. Please change the shape of y to (n_samples, ), for example using ravel().\n",
      "  return f(**kwargs)\n",
      "C:\\Users\\nathi\\Anaconda3\\lib\\site-packages\\sklearn\\utils\\validation.py:72: DataConversionWarning: A column-vector y was passed when a 1d array was expected. Please change the shape of y to (n_samples, ), for example using ravel().\n",
      "  return f(**kwargs)\n",
      "C:\\Users\\nathi\\Anaconda3\\lib\\site-packages\\sklearn\\utils\\validation.py:72: DataConversionWarning: A column-vector y was passed when a 1d array was expected. Please change the shape of y to (n_samples, ), for example using ravel().\n",
      "  return f(**kwargs)\n",
      "C:\\Users\\nathi\\Anaconda3\\lib\\site-packages\\sklearn\\utils\\validation.py:72: DataConversionWarning: A column-vector y was passed when a 1d array was expected. Please change the shape of y to (n_samples, ), for example using ravel().\n",
      "  return f(**kwargs)\n",
      "C:\\Users\\nathi\\Anaconda3\\lib\\site-packages\\sklearn\\utils\\validation.py:72: DataConversionWarning: A column-vector y was passed when a 1d array was expected. Please change the shape of y to (n_samples, ), for example using ravel().\n",
      "  return f(**kwargs)\n",
      "C:\\Users\\nathi\\Anaconda3\\lib\\site-packages\\sklearn\\utils\\validation.py:72: DataConversionWarning: A column-vector y was passed when a 1d array was expected. Please change the shape of y to (n_samples, ), for example using ravel().\n",
      "  return f(**kwargs)\n",
      "C:\\Users\\nathi\\Anaconda3\\lib\\site-packages\\sklearn\\utils\\validation.py:72: DataConversionWarning: A column-vector y was passed when a 1d array was expected. Please change the shape of y to (n_samples, ), for example using ravel().\n",
      "  return f(**kwargs)\n"
     ]
    },
    {
     "name": "stdout",
     "output_type": "stream",
     "text": [
      "0.11946450174574201\n"
     ]
    }
   ],
   "source": [
    "# Mean Absolute Error\n",
    "print(-cross_val_score(svr_rfe, X_train_rfe, y_train_sc, cv=10, scoring='neg_mean_absolute_error').mean())"
   ]
  },
  {
   "cell_type": "code",
   "execution_count": 283,
   "metadata": {},
   "outputs": [
    {
     "name": "stderr",
     "output_type": "stream",
     "text": [
      "C:\\Users\\nathi\\Anaconda3\\lib\\site-packages\\sklearn\\utils\\validation.py:72: DataConversionWarning: A column-vector y was passed when a 1d array was expected. Please change the shape of y to (n_samples, ), for example using ravel().\n",
      "  return f(**kwargs)\n",
      "C:\\Users\\nathi\\Anaconda3\\lib\\site-packages\\sklearn\\utils\\validation.py:72: DataConversionWarning: A column-vector y was passed when a 1d array was expected. Please change the shape of y to (n_samples, ), for example using ravel().\n",
      "  return f(**kwargs)\n",
      "C:\\Users\\nathi\\Anaconda3\\lib\\site-packages\\sklearn\\utils\\validation.py:72: DataConversionWarning: A column-vector y was passed when a 1d array was expected. Please change the shape of y to (n_samples, ), for example using ravel().\n",
      "  return f(**kwargs)\n",
      "C:\\Users\\nathi\\Anaconda3\\lib\\site-packages\\sklearn\\utils\\validation.py:72: DataConversionWarning: A column-vector y was passed when a 1d array was expected. Please change the shape of y to (n_samples, ), for example using ravel().\n",
      "  return f(**kwargs)\n",
      "C:\\Users\\nathi\\Anaconda3\\lib\\site-packages\\sklearn\\utils\\validation.py:72: DataConversionWarning: A column-vector y was passed when a 1d array was expected. Please change the shape of y to (n_samples, ), for example using ravel().\n",
      "  return f(**kwargs)\n",
      "C:\\Users\\nathi\\Anaconda3\\lib\\site-packages\\sklearn\\utils\\validation.py:72: DataConversionWarning: A column-vector y was passed when a 1d array was expected. Please change the shape of y to (n_samples, ), for example using ravel().\n",
      "  return f(**kwargs)\n",
      "C:\\Users\\nathi\\Anaconda3\\lib\\site-packages\\sklearn\\utils\\validation.py:72: DataConversionWarning: A column-vector y was passed when a 1d array was expected. Please change the shape of y to (n_samples, ), for example using ravel().\n",
      "  return f(**kwargs)\n",
      "C:\\Users\\nathi\\Anaconda3\\lib\\site-packages\\sklearn\\utils\\validation.py:72: DataConversionWarning: A column-vector y was passed when a 1d array was expected. Please change the shape of y to (n_samples, ), for example using ravel().\n",
      "  return f(**kwargs)\n",
      "C:\\Users\\nathi\\Anaconda3\\lib\\site-packages\\sklearn\\utils\\validation.py:72: DataConversionWarning: A column-vector y was passed when a 1d array was expected. Please change the shape of y to (n_samples, ), for example using ravel().\n",
      "  return f(**kwargs)\n",
      "C:\\Users\\nathi\\Anaconda3\\lib\\site-packages\\sklearn\\utils\\validation.py:72: DataConversionWarning: A column-vector y was passed when a 1d array was expected. Please change the shape of y to (n_samples, ), for example using ravel().\n",
      "  return f(**kwargs)\n"
     ]
    },
    {
     "name": "stdout",
     "output_type": "stream",
     "text": [
      "0.5049094699614837\n"
     ]
    }
   ],
   "source": [
    "# Mean Squared Error\n",
    "print(-cross_val_score(svr_rfe, X_train_rfe, y_train_sc, cv=10, scoring='neg_mean_squared_error').mean())"
   ]
  },
  {
   "cell_type": "code",
   "execution_count": 284,
   "metadata": {},
   "outputs": [
    {
     "name": "stderr",
     "output_type": "stream",
     "text": [
      "C:\\Users\\nathi\\Anaconda3\\lib\\site-packages\\sklearn\\utils\\validation.py:72: DataConversionWarning: A column-vector y was passed when a 1d array was expected. Please change the shape of y to (n_samples, ), for example using ravel().\n",
      "  return f(**kwargs)\n",
      "C:\\Users\\nathi\\Anaconda3\\lib\\site-packages\\sklearn\\utils\\validation.py:72: DataConversionWarning: A column-vector y was passed when a 1d array was expected. Please change the shape of y to (n_samples, ), for example using ravel().\n",
      "  return f(**kwargs)\n",
      "C:\\Users\\nathi\\Anaconda3\\lib\\site-packages\\sklearn\\utils\\validation.py:72: DataConversionWarning: A column-vector y was passed when a 1d array was expected. Please change the shape of y to (n_samples, ), for example using ravel().\n",
      "  return f(**kwargs)\n",
      "C:\\Users\\nathi\\Anaconda3\\lib\\site-packages\\sklearn\\utils\\validation.py:72: DataConversionWarning: A column-vector y was passed when a 1d array was expected. Please change the shape of y to (n_samples, ), for example using ravel().\n",
      "  return f(**kwargs)\n",
      "C:\\Users\\nathi\\Anaconda3\\lib\\site-packages\\sklearn\\utils\\validation.py:72: DataConversionWarning: A column-vector y was passed when a 1d array was expected. Please change the shape of y to (n_samples, ), for example using ravel().\n",
      "  return f(**kwargs)\n",
      "C:\\Users\\nathi\\Anaconda3\\lib\\site-packages\\sklearn\\utils\\validation.py:72: DataConversionWarning: A column-vector y was passed when a 1d array was expected. Please change the shape of y to (n_samples, ), for example using ravel().\n",
      "  return f(**kwargs)\n",
      "C:\\Users\\nathi\\Anaconda3\\lib\\site-packages\\sklearn\\utils\\validation.py:72: DataConversionWarning: A column-vector y was passed when a 1d array was expected. Please change the shape of y to (n_samples, ), for example using ravel().\n",
      "  return f(**kwargs)\n",
      "C:\\Users\\nathi\\Anaconda3\\lib\\site-packages\\sklearn\\utils\\validation.py:72: DataConversionWarning: A column-vector y was passed when a 1d array was expected. Please change the shape of y to (n_samples, ), for example using ravel().\n",
      "  return f(**kwargs)\n",
      "C:\\Users\\nathi\\Anaconda3\\lib\\site-packages\\sklearn\\utils\\validation.py:72: DataConversionWarning: A column-vector y was passed when a 1d array was expected. Please change the shape of y to (n_samples, ), for example using ravel().\n",
      "  return f(**kwargs)\n",
      "C:\\Users\\nathi\\Anaconda3\\lib\\site-packages\\sklearn\\utils\\validation.py:72: DataConversionWarning: A column-vector y was passed when a 1d array was expected. Please change the shape of y to (n_samples, ), for example using ravel().\n",
      "  return f(**kwargs)\n"
     ]
    },
    {
     "name": "stdout",
     "output_type": "stream",
     "text": [
      "0.6461878455110865\n"
     ]
    }
   ],
   "source": [
    "# Root Mean Squared Error\n",
    "print(np.sqrt(-cross_val_score(svr_rfe, X_train_rfe, y_train_sc, cv=10, scoring='neg_mean_squared_error')).mean())"
   ]
  },
  {
   "cell_type": "code",
   "execution_count": 285,
   "metadata": {},
   "outputs": [
    {
     "data": {
      "text/plain": [
       "array([   26,    28,    29, ..., 12428, 12436, 12446])"
      ]
     },
     "execution_count": 285,
     "metadata": {},
     "output_type": "execute_result"
    }
   ],
   "source": [
    "svr_rfe.support_"
   ]
  },
  {
   "cell_type": "code",
   "execution_count": 286,
   "metadata": {},
   "outputs": [
    {
     "data": {
      "text/plain": [
       "array([[-1.57423519,  0.09150183,  0.37804446, -0.32049254,  4.34317905,\n",
       "        -0.0990849 ],\n",
       "       [-1.71019527,  0.11845949,  0.37804446,  3.64538254,  2.50624574,\n",
       "         0.81488979],\n",
       "       [-1.22444509,  0.12616167, -0.86348373, -0.18605609, -0.24915423,\n",
       "         0.24365561],\n",
       "       ...,\n",
       "       [-1.16094153,  0.12616167, -0.86348373, -0.32049254, -0.24915423,\n",
       "         0.07228535],\n",
       "       [-1.38205885,  0.13001277, -0.09384861,  0.46372005,  0.9543538 ,\n",
       "         0.24365561],\n",
       "       [-1.55383077,  0.11460839,  1.33306615,  1.80808448, -0.24915423,\n",
       "         1.32900055]])"
      ]
     },
     "execution_count": 286,
     "metadata": {},
     "output_type": "execute_result"
    }
   ],
   "source": [
    "svr_rfe.support_vectors_"
   ]
  },
  {
   "cell_type": "code",
   "execution_count": 287,
   "metadata": {},
   "outputs": [
    {
     "data": {
      "text/plain": [
       "0.5585903123193285"
      ]
     },
     "execution_count": 287,
     "metadata": {},
     "output_type": "execute_result"
    }
   ],
   "source": [
    "svr_rfe.score(X_train_rfe, y_train_sc)"
   ]
  },
  {
   "cell_type": "code",
   "execution_count": 288,
   "metadata": {},
   "outputs": [
    {
     "data": {
      "text/plain": [
       "array([ 0.03398902,  0.28676155, -0.03109833, ...,  0.08667762,\n",
       "        0.01708725,  0.08376289])"
      ]
     },
     "execution_count": 288,
     "metadata": {},
     "output_type": "execute_result"
    }
   ],
   "source": [
    "y_svrpred_rfe_sc = svr_rfe.predict(X_test_rfe)\n",
    "y_svrpred_rfe = sc_y.inverse_transform(y_svrpred_rfe_sc)\n",
    "y_svrpred_rfe"
   ]
  },
  {
   "cell_type": "code",
   "execution_count": 289,
   "metadata": {},
   "outputs": [
    {
     "name": "stdout",
     "output_type": "stream",
     "text": [
      "MAE for SVM regression was: 0.10\n"
     ]
    }
   ],
   "source": [
    "# Mean Absolute Error\n",
    "print(\"MAE for SVM regression was: %.2f\" % metrics.mean_absolute_error(y_test, y_svrpred_rfe))"
   ]
  },
  {
   "cell_type": "code",
   "execution_count": 290,
   "metadata": {},
   "outputs": [
    {
     "name": "stdout",
     "output_type": "stream",
     "text": [
      "MSE for SVM regression was: 0.58\n"
     ]
    }
   ],
   "source": [
    "# Mean Squared Error\n",
    "print(\"MSE for SVM regression was: %.2f\" % metrics.mean_squared_error(y_test, y_svrpred_rfe))"
   ]
  },
  {
   "cell_type": "code",
   "execution_count": 291,
   "metadata": {},
   "outputs": [
    {
     "name": "stdout",
     "output_type": "stream",
     "text": [
      "RMSE was 0.7611530909236532\n"
     ]
    }
   ],
   "source": [
    "# Root Mean Squared Error\n",
    "print(\"RMSE was\", np.sqrt(metrics.mean_squared_error(y_test, y_svrpred_rfe)))"
   ]
  },
  {
   "cell_type": "code",
   "execution_count": 292,
   "metadata": {},
   "outputs": [
    {
     "name": "stdout",
     "output_type": "stream",
     "text": [
      "Variance score (R2) for SVM regression was: 0.36\n"
     ]
    }
   ],
   "source": [
    "# R-squared\n",
    "print('Variance score (R2) for SVM regression was: %.2f' % metrics.r2_score(y_test, y_svrpred_rfe))"
   ]
  },
  {
   "cell_type": "code",
   "execution_count": 293,
   "metadata": {},
   "outputs": [
    {
     "data": {
      "image/png": "[encoded data removed]",
      "text/plain": [
       "<Figure size 720x432 with 1 Axes>"
      ]
     },
     "metadata": {
      "needs_background": "light"
     },
     "output_type": "display_data"
    }
   ],
   "source": [
    "# Plot Comparing Actual and Predicted Values using SVM Regression Model\n",
    "plt.figure(figsize=(10, 6))\n",
    "plt.plot(y_svrpred_rfe, label='Predicted')\n",
    "plt.plot(y_test, label='Actual', alpha=0.7, linestyle=':')\n",
    "plt.ylabel('New Cases')\n",
    "plt.xlabel('Observation Number')\n",
    "plt.title('Comparing Actual and Predicted Values using SVM Regression Model')\n",
    "plt.legend()\n",
    "plt.show()"
   ]
  },
  {
   "cell_type": "markdown",
   "metadata": {},
   "source": [
    "### With PCA"
   ]
  },
  {
   "cell_type": "code",
   "execution_count": 294,
   "metadata": {},
   "outputs": [],
   "source": [
    "# Instantiate SVM regression\n",
    "svr_pca = SVR(kernel='rbf', gamma = 'auto') # C=1.0, episolon=0.1"
   ]
  },
  {
   "cell_type": "code",
   "execution_count": 295,
   "metadata": {},
   "outputs": [
    {
     "name": "stderr",
     "output_type": "stream",
     "text": [
      "C:\\Users\\nathi\\Anaconda3\\lib\\site-packages\\sklearn\\utils\\validation.py:72: DataConversionWarning: A column-vector y was passed when a 1d array was expected. Please change the shape of y to (n_samples, ), for example using ravel().\n",
      "  return f(**kwargs)\n"
     ]
    },
    {
     "data": {
      "text/plain": [
       "SVR(gamma='auto')"
      ]
     },
     "execution_count": 295,
     "metadata": {},
     "output_type": "execute_result"
    }
   ],
   "source": [
    "# Fit the model\n",
    "svr_pca.fit(X_train_pca_6, y_train_sc)"
   ]
  },
  {
   "cell_type": "code",
   "execution_count": 296,
   "metadata": {},
   "outputs": [
    {
     "data": {
      "text/plain": [
       "0.49324830288127963"
      ]
     },
     "execution_count": 296,
     "metadata": {},
     "output_type": "execute_result"
    }
   ],
   "source": [
    "# R-squared score\n",
    "svr_pca.score(X_train_pca_6, y_train_sc)"
   ]
  },
  {
   "cell_type": "code",
   "execution_count": 297,
   "metadata": {},
   "outputs": [
    {
     "name": "stderr",
     "output_type": "stream",
     "text": [
      "C:\\Users\\nathi\\Anaconda3\\lib\\site-packages\\sklearn\\utils\\validation.py:72: DataConversionWarning: A column-vector y was passed when a 1d array was expected. Please change the shape of y to (n_samples, ), for example using ravel().\n",
      "  return f(**kwargs)\n",
      "C:\\Users\\nathi\\Anaconda3\\lib\\site-packages\\sklearn\\utils\\validation.py:72: DataConversionWarning: A column-vector y was passed when a 1d array was expected. Please change the shape of y to (n_samples, ), for example using ravel().\n",
      "  return f(**kwargs)\n",
      "C:\\Users\\nathi\\Anaconda3\\lib\\site-packages\\sklearn\\utils\\validation.py:72: DataConversionWarning: A column-vector y was passed when a 1d array was expected. Please change the shape of y to (n_samples, ), for example using ravel().\n",
      "  return f(**kwargs)\n",
      "C:\\Users\\nathi\\Anaconda3\\lib\\site-packages\\sklearn\\utils\\validation.py:72: DataConversionWarning: A column-vector y was passed when a 1d array was expected. Please change the shape of y to (n_samples, ), for example using ravel().\n",
      "  return f(**kwargs)\n",
      "C:\\Users\\nathi\\Anaconda3\\lib\\site-packages\\sklearn\\utils\\validation.py:72: DataConversionWarning: A column-vector y was passed when a 1d array was expected. Please change the shape of y to (n_samples, ), for example using ravel().\n",
      "  return f(**kwargs)\n",
      "C:\\Users\\nathi\\Anaconda3\\lib\\site-packages\\sklearn\\utils\\validation.py:72: DataConversionWarning: A column-vector y was passed when a 1d array was expected. Please change the shape of y to (n_samples, ), for example using ravel().\n",
      "  return f(**kwargs)\n",
      "C:\\Users\\nathi\\Anaconda3\\lib\\site-packages\\sklearn\\utils\\validation.py:72: DataConversionWarning: A column-vector y was passed when a 1d array was expected. Please change the shape of y to (n_samples, ), for example using ravel().\n",
      "  return f(**kwargs)\n",
      "C:\\Users\\nathi\\Anaconda3\\lib\\site-packages\\sklearn\\utils\\validation.py:72: DataConversionWarning: A column-vector y was passed when a 1d array was expected. Please change the shape of y to (n_samples, ), for example using ravel().\n",
      "  return f(**kwargs)\n",
      "C:\\Users\\nathi\\Anaconda3\\lib\\site-packages\\sklearn\\utils\\validation.py:72: DataConversionWarning: A column-vector y was passed when a 1d array was expected. Please change the shape of y to (n_samples, ), for example using ravel().\n",
      "  return f(**kwargs)\n",
      "C:\\Users\\nathi\\Anaconda3\\lib\\site-packages\\sklearn\\utils\\validation.py:72: DataConversionWarning: A column-vector y was passed when a 1d array was expected. Please change the shape of y to (n_samples, ), for example using ravel().\n",
      "  return f(**kwargs)\n"
     ]
    },
    {
     "name": "stdout",
     "output_type": "stream",
     "text": [
      "0.4977083836782342\n"
     ]
    }
   ],
   "source": [
    "# R-squared score\n",
    "print(cross_val_score(svr_pca, X_train_pca_6, y_train_sc, cv=10, scoring='r2').mean())"
   ]
  },
  {
   "cell_type": "code",
   "execution_count": 298,
   "metadata": {},
   "outputs": [
    {
     "name": "stderr",
     "output_type": "stream",
     "text": [
      "C:\\Users\\nathi\\Anaconda3\\lib\\site-packages\\sklearn\\utils\\validation.py:72: DataConversionWarning: A column-vector y was passed when a 1d array was expected. Please change the shape of y to (n_samples, ), for example using ravel().\n",
      "  return f(**kwargs)\n",
      "C:\\Users\\nathi\\Anaconda3\\lib\\site-packages\\sklearn\\utils\\validation.py:72: DataConversionWarning: A column-vector y was passed when a 1d array was expected. Please change the shape of y to (n_samples, ), for example using ravel().\n",
      "  return f(**kwargs)\n",
      "C:\\Users\\nathi\\Anaconda3\\lib\\site-packages\\sklearn\\utils\\validation.py:72: DataConversionWarning: A column-vector y was passed when a 1d array was expected. Please change the shape of y to (n_samples, ), for example using ravel().\n",
      "  return f(**kwargs)\n",
      "C:\\Users\\nathi\\Anaconda3\\lib\\site-packages\\sklearn\\utils\\validation.py:72: DataConversionWarning: A column-vector y was passed when a 1d array was expected. Please change the shape of y to (n_samples, ), for example using ravel().\n",
      "  return f(**kwargs)\n",
      "C:\\Users\\nathi\\Anaconda3\\lib\\site-packages\\sklearn\\utils\\validation.py:72: DataConversionWarning: A column-vector y was passed when a 1d array was expected. Please change the shape of y to (n_samples, ), for example using ravel().\n",
      "  return f(**kwargs)\n",
      "C:\\Users\\nathi\\Anaconda3\\lib\\site-packages\\sklearn\\utils\\validation.py:72: DataConversionWarning: A column-vector y was passed when a 1d array was expected. Please change the shape of y to (n_samples, ), for example using ravel().\n",
      "  return f(**kwargs)\n",
      "C:\\Users\\nathi\\Anaconda3\\lib\\site-packages\\sklearn\\utils\\validation.py:72: DataConversionWarning: A column-vector y was passed when a 1d array was expected. Please change the shape of y to (n_samples, ), for example using ravel().\n",
      "  return f(**kwargs)\n",
      "C:\\Users\\nathi\\Anaconda3\\lib\\site-packages\\sklearn\\utils\\validation.py:72: DataConversionWarning: A column-vector y was passed when a 1d array was expected. Please change the shape of y to (n_samples, ), for example using ravel().\n",
      "  return f(**kwargs)\n",
      "C:\\Users\\nathi\\Anaconda3\\lib\\site-packages\\sklearn\\utils\\validation.py:72: DataConversionWarning: A column-vector y was passed when a 1d array was expected. Please change the shape of y to (n_samples, ), for example using ravel().\n",
      "  return f(**kwargs)\n",
      "C:\\Users\\nathi\\Anaconda3\\lib\\site-packages\\sklearn\\utils\\validation.py:72: DataConversionWarning: A column-vector y was passed when a 1d array was expected. Please change the shape of y to (n_samples, ), for example using ravel().\n",
      "  return f(**kwargs)\n"
     ]
    },
    {
     "name": "stdout",
     "output_type": "stream",
     "text": [
      "0.18435517240112595\n"
     ]
    }
   ],
   "source": [
    "# Mean Absolute Error\n",
    "print(-cross_val_score(svr_pca, X_train_pca_6, y_train_sc, cv=10, scoring='neg_mean_absolute_error').mean())"
   ]
  },
  {
   "cell_type": "code",
   "execution_count": 299,
   "metadata": {},
   "outputs": [
    {
     "name": "stderr",
     "output_type": "stream",
     "text": [
      "C:\\Users\\nathi\\Anaconda3\\lib\\site-packages\\sklearn\\utils\\validation.py:72: DataConversionWarning: A column-vector y was passed when a 1d array was expected. Please change the shape of y to (n_samples, ), for example using ravel().\n",
      "  return f(**kwargs)\n",
      "C:\\Users\\nathi\\Anaconda3\\lib\\site-packages\\sklearn\\utils\\validation.py:72: DataConversionWarning: A column-vector y was passed when a 1d array was expected. Please change the shape of y to (n_samples, ), for example using ravel().\n",
      "  return f(**kwargs)\n",
      "C:\\Users\\nathi\\Anaconda3\\lib\\site-packages\\sklearn\\utils\\validation.py:72: DataConversionWarning: A column-vector y was passed when a 1d array was expected. Please change the shape of y to (n_samples, ), for example using ravel().\n",
      "  return f(**kwargs)\n",
      "C:\\Users\\nathi\\Anaconda3\\lib\\site-packages\\sklearn\\utils\\validation.py:72: DataConversionWarning: A column-vector y was passed when a 1d array was expected. Please change the shape of y to (n_samples, ), for example using ravel().\n",
      "  return f(**kwargs)\n",
      "C:\\Users\\nathi\\Anaconda3\\lib\\site-packages\\sklearn\\utils\\validation.py:72: DataConversionWarning: A column-vector y was passed when a 1d array was expected. Please change the shape of y to (n_samples, ), for example using ravel().\n",
      "  return f(**kwargs)\n",
      "C:\\Users\\nathi\\Anaconda3\\lib\\site-packages\\sklearn\\utils\\validation.py:72: DataConversionWarning: A column-vector y was passed when a 1d array was expected. Please change the shape of y to (n_samples, ), for example using ravel().\n",
      "  return f(**kwargs)\n",
      "C:\\Users\\nathi\\Anaconda3\\lib\\site-packages\\sklearn\\utils\\validation.py:72: DataConversionWarning: A column-vector y was passed when a 1d array was expected. Please change the shape of y to (n_samples, ), for example using ravel().\n",
      "  return f(**kwargs)\n",
      "C:\\Users\\nathi\\Anaconda3\\lib\\site-packages\\sklearn\\utils\\validation.py:72: DataConversionWarning: A column-vector y was passed when a 1d array was expected. Please change the shape of y to (n_samples, ), for example using ravel().\n",
      "  return f(**kwargs)\n",
      "C:\\Users\\nathi\\Anaconda3\\lib\\site-packages\\sklearn\\utils\\validation.py:72: DataConversionWarning: A column-vector y was passed when a 1d array was expected. Please change the shape of y to (n_samples, ), for example using ravel().\n",
      "  return f(**kwargs)\n",
      "C:\\Users\\nathi\\Anaconda3\\lib\\site-packages\\sklearn\\utils\\validation.py:72: DataConversionWarning: A column-vector y was passed when a 1d array was expected. Please change the shape of y to (n_samples, ), for example using ravel().\n",
      "  return f(**kwargs)\n"
     ]
    },
    {
     "name": "stdout",
     "output_type": "stream",
     "text": [
      "0.5695816839709033\n"
     ]
    }
   ],
   "source": [
    "# Mean Squared Error\n",
    "print(-cross_val_score(svr_pca, X_train_pca_6, y_train_sc, cv=10, scoring='neg_mean_squared_error').mean())"
   ]
  },
  {
   "cell_type": "code",
   "execution_count": 300,
   "metadata": {},
   "outputs": [
    {
     "name": "stderr",
     "output_type": "stream",
     "text": [
      "C:\\Users\\nathi\\Anaconda3\\lib\\site-packages\\sklearn\\utils\\validation.py:72: DataConversionWarning: A column-vector y was passed when a 1d array was expected. Please change the shape of y to (n_samples, ), for example using ravel().\n",
      "  return f(**kwargs)\n",
      "C:\\Users\\nathi\\Anaconda3\\lib\\site-packages\\sklearn\\utils\\validation.py:72: DataConversionWarning: A column-vector y was passed when a 1d array was expected. Please change the shape of y to (n_samples, ), for example using ravel().\n",
      "  return f(**kwargs)\n",
      "C:\\Users\\nathi\\Anaconda3\\lib\\site-packages\\sklearn\\utils\\validation.py:72: DataConversionWarning: A column-vector y was passed when a 1d array was expected. Please change the shape of y to (n_samples, ), for example using ravel().\n",
      "  return f(**kwargs)\n",
      "C:\\Users\\nathi\\Anaconda3\\lib\\site-packages\\sklearn\\utils\\validation.py:72: DataConversionWarning: A column-vector y was passed when a 1d array was expected. Please change the shape of y to (n_samples, ), for example using ravel().\n",
      "  return f(**kwargs)\n",
      "C:\\Users\\nathi\\Anaconda3\\lib\\site-packages\\sklearn\\utils\\validation.py:72: DataConversionWarning: A column-vector y was passed when a 1d array was expected. Please change the shape of y to (n_samples, ), for example using ravel().\n",
      "  return f(**kwargs)\n",
      "C:\\Users\\nathi\\Anaconda3\\lib\\site-packages\\sklearn\\utils\\validation.py:72: DataConversionWarning: A column-vector y was passed when a 1d array was expected. Please change the shape of y to (n_samples, ), for example using ravel().\n",
      "  return f(**kwargs)\n",
      "C:\\Users\\nathi\\Anaconda3\\lib\\site-packages\\sklearn\\utils\\validation.py:72: DataConversionWarning: A column-vector y was passed when a 1d array was expected. Please change the shape of y to (n_samples, ), for example using ravel().\n",
      "  return f(**kwargs)\n",
      "C:\\Users\\nathi\\Anaconda3\\lib\\site-packages\\sklearn\\utils\\validation.py:72: DataConversionWarning: A column-vector y was passed when a 1d array was expected. Please change the shape of y to (n_samples, ), for example using ravel().\n",
      "  return f(**kwargs)\n",
      "C:\\Users\\nathi\\Anaconda3\\lib\\site-packages\\sklearn\\utils\\validation.py:72: DataConversionWarning: A column-vector y was passed when a 1d array was expected. Please change the shape of y to (n_samples, ), for example using ravel().\n",
      "  return f(**kwargs)\n",
      "C:\\Users\\nathi\\Anaconda3\\lib\\site-packages\\sklearn\\utils\\validation.py:72: DataConversionWarning: A column-vector y was passed when a 1d array was expected. Please change the shape of y to (n_samples, ), for example using ravel().\n",
      "  return f(**kwargs)\n"
     ]
    },
    {
     "name": "stdout",
     "output_type": "stream",
     "text": [
      "0.7014570316799082\n"
     ]
    }
   ],
   "source": [
    "# Root Mean Squared Error\n",
    "print(np.sqrt(-cross_val_score(svr_pca, X_train_pca_6, y_train_sc, cv=10, scoring='neg_mean_squared_error')).mean())"
   ]
  },
  {
   "cell_type": "code",
   "execution_count": 301,
   "metadata": {},
   "outputs": [
    {
     "data": {
      "text/plain": [
       "array([    9,    12,    17, ..., 12443, 12445, 12446])"
      ]
     },
     "execution_count": 301,
     "metadata": {},
     "output_type": "execute_result"
    }
   ],
   "source": [
    "svr_pca.support_"
   ]
  },
  {
   "cell_type": "code",
   "execution_count": 302,
   "metadata": {},
   "outputs": [
    {
     "data": {
      "text/plain": [
       "array([[ 0.06483062,  1.93571067, -0.45028524, -0.69006889, -0.52461686,\n",
       "         0.1489241 ],\n",
       "       [ 0.22173012, -1.40412263,  0.17556727,  0.62389735, -0.7312117 ,\n",
       "        -0.16572176],\n",
       "       [ 1.17220479, -2.16708061,  0.22117634,  0.47371283,  0.516714  ,\n",
       "        -0.40850493],\n",
       "       ...,\n",
       "       [-0.57794038, -0.36544082, -0.43133145,  0.59579102, -0.15937842,\n",
       "        -1.43981603],\n",
       "       [ 0.25604366,  0.55189146, -2.04567981, -1.39519157,  0.31338289,\n",
       "        -0.11845097],\n",
       "       [ 2.40213868,  0.59839106, -1.26179843, -0.49583843, -0.11321964,\n",
       "        -0.35942188]])"
      ]
     },
     "execution_count": 302,
     "metadata": {},
     "output_type": "execute_result"
    }
   ],
   "source": [
    "svr_pca.support_vectors_"
   ]
  },
  {
   "cell_type": "code",
   "execution_count": 303,
   "metadata": {},
   "outputs": [
    {
     "data": {
      "text/plain": [
       "0.49324830288127963"
      ]
     },
     "execution_count": 303,
     "metadata": {},
     "output_type": "execute_result"
    }
   ],
   "source": [
    "svr_pca.score(X_train_pca_6, y_train_sc)"
   ]
  },
  {
   "cell_type": "code",
   "execution_count": 304,
   "metadata": {},
   "outputs": [
    {
     "data": {
      "text/plain": [
       "array([0.09288417, 0.17200407, 0.02383796, ..., 0.12315463, 0.11962045,\n",
       "       0.04363388])"
      ]
     },
     "execution_count": 304,
     "metadata": {},
     "output_type": "execute_result"
    }
   ],
   "source": [
    "y_svrpred_pca_sc = svr_pca.predict(X_test_pca_6)\n",
    "y_svrpred_pca = sc_y.inverse_transform(y_svrpred_pca_sc)\n",
    "y_svrpred_pca"
   ]
  },
  {
   "cell_type": "code",
   "execution_count": 305,
   "metadata": {},
   "outputs": [
    {
     "name": "stdout",
     "output_type": "stream",
     "text": [
      "MAE for SVM regression was: 0.15\n"
     ]
    }
   ],
   "source": [
    "# Mean Absolute Error\n",
    "print(\"MAE for SVM regression was: %.2f\" % metrics.mean_absolute_error(y_test, y_svrpred_pca))"
   ]
  },
  {
   "cell_type": "code",
   "execution_count": 306,
   "metadata": {},
   "outputs": [
    {
     "name": "stdout",
     "output_type": "stream",
     "text": [
      "MSE for SVM regression was: 0.63\n"
     ]
    }
   ],
   "source": [
    "# Mean Squared Error\n",
    "print(\"MSE for SVM regression was: %.2f\" % metrics.mean_squared_error(y_test, y_svrpred_pca))"
   ]
  },
  {
   "cell_type": "code",
   "execution_count": 307,
   "metadata": {},
   "outputs": [
    {
     "name": "stdout",
     "output_type": "stream",
     "text": [
      "RMSE was 0.7954909833720124\n"
     ]
    }
   ],
   "source": [
    "# Root Mean Squared Error\n",
    "print(\"RMSE was\", np.sqrt(metrics.mean_squared_error(y_test, y_svrpred_pca)))"
   ]
  },
  {
   "cell_type": "code",
   "execution_count": 308,
   "metadata": {},
   "outputs": [
    {
     "name": "stdout",
     "output_type": "stream",
     "text": [
      "Variance score (R2) for SVM regression was: 0.30\n"
     ]
    }
   ],
   "source": [
    "# R-squared\n",
    "print('Variance score (R2) for SVM regression was: %.2f' % metrics.r2_score(y_test, y_svrpred_pca))"
   ]
  },
  {
   "cell_type": "code",
   "execution_count": 309,
   "metadata": {},
   "outputs": [
    {
     "data": {
      "image/png": "[encoded data removed]",
      "text/plain": [
       "<Figure size 720x432 with 1 Axes>"
      ]
     },
     "metadata": {
      "needs_background": "light"
     },
     "output_type": "display_data"
    }
   ],
   "source": [
    "# Plot Comparing Actual and Predicted Values using SVM Regression Model\n",
    "plt.figure(figsize=(10, 6))\n",
    "plt.plot(y_svrpred_pca, label='Predicted')\n",
    "plt.plot(y_test, label='Actual', alpha=0.7, linestyle=':')\n",
    "plt.ylabel('New Cases')\n",
    "plt.xlabel('Observation Number')\n",
    "plt.title('Comparing Actual and Predicted Values using SVM Regression Model')\n",
    "plt.legend()\n",
    "plt.show()"
   ]
  }
 ],
 "metadata": {
  "kernelspec": {
   "display_name": "Python 3",
   "language": "python",
   "name": "python3"
  },
  "language_info": {
   "codemirror_mode": {
    "name": "ipython",
    "version": 3
   },
   "file_extension": ".py",
   "mimetype": "text/x-python",
   "name": "python",
   "nbconvert_exporter": "python",
   "pygments_lexer": "ipython3",
   "version": "3.7.3"
  }
 },
 "nbformat": 4,
 "nbformat_minor": 4
}
